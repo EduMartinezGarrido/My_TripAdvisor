{
 "cells": [
  {
   "cell_type": "code",
   "execution_count": 1,
   "metadata": {},
   "outputs": [],
   "source": [
    "from selenium import webdriver\n",
    "from selenium.webdriver.support.ui import WebDriverWait \n",
    "from selenium.webdriver.support import expected_conditions as EC\n",
    "from selenium.webdriver.common.by import By\n",
    "from selenium.webdriver.chrome.options import Options\n",
    "from geopy.geocoders import Nominatim\n",
    "import pandas as pd\n",
    "import time"
   ]
  },
  {
   "cell_type": "code",
   "execution_count": 2,
   "metadata": {},
   "outputs": [],
   "source": [
    "ciudad = \"madrid\"\n",
    "url = 'https://www.spain.info/es/resultados-busqueda/index.html?q='\n",
    "url2 = '&reloaded&page=1&rpp=36&subTypeFilter=Museo,Monumento,Jard%C3%ADn%20hist%C3%B3rico'"
   ]
  },
  {
   "cell_type": "code",
   "execution_count": 3,
   "metadata": {},
   "outputs": [],
   "source": [
    "opciones=Options()\n",
    "\n",
    "opciones.add_experimental_option('excludeSwitches', ['enable-automation'])\n",
    "opciones.add_experimental_option('useAutomationExtension', False)\n",
    "\n",
    "opciones.headless=False    # si True, no aperece la ventana (headless=no visible)\n",
    "\n",
    "opciones.add_argument('--start-maximized')         # comienza maximizado\n",
    "\n",
    "opciones.add_argument('user-data-dir=selenium')    # mantiene las cookies\n",
    "\n",
    "opciones.add_argument('--incognito')              # incognito\n",
    "\n",
    "\n",
    "PATH='./chromedriver'\n",
    "driver=webdriver.Chrome(PATH, options=opciones)\n",
    "driver.get(url + ciudad + url2)"
   ]
  },
  {
   "cell_type": "code",
   "execution_count": 4,
   "metadata": {},
   "outputs": [],
   "source": [
    "texto_visitar = driver.find_elements_by_class_name('title')"
   ]
  },
  {
   "cell_type": "code",
   "execution_count": 5,
   "metadata": {},
   "outputs": [
    {
     "data": {
      "text/plain": [
       "['CaixaForum Madrid',\n",
       " 'Museo del Real Observatorio de Madrid',\n",
       " 'Real Colegiata de San Isidro de Madrid',\n",
       " 'Museo Arqueológico Regional de la Comunidad de Madrid',\n",
       " 'Presidencia de la Comunidad de Madrid (Antigua Casa de Correos)',\n",
       " 'Museo Nacional del Prado']"
      ]
     },
     "execution_count": 5,
     "metadata": {},
     "output_type": "execute_result"
    }
   ],
   "source": [
    "frase = []\n",
    "for i in texto_visitar:\n",
    "    frase.append(i.text)\n",
    "\n",
    "frase = frase[11:]\n",
    "frase"
   ]
  },
  {
   "cell_type": "code",
   "execution_count": 6,
   "metadata": {},
   "outputs": [
    {
     "data": {
      "text/plain": [
       "'\\ndireccion = []\\nfor i in range(0,len(frase)):\\n    geolocator = Nominatim(user_agent=\"edu\")\\n    location = geolocator.geocode(frase[i])\\n    direccion.append(location.address)\\n    time.sleep(3)\\n'"
      ]
     },
     "execution_count": 6,
     "metadata": {},
     "output_type": "execute_result"
    }
   ],
   "source": [
    "'''\n",
    "direccion = []\n",
    "for i in range(0,len(frase)):\n",
    "    geolocator = Nominatim(user_agent=\"edu\")\n",
    "    location = geolocator.geocode(frase[i])\n",
    "    direccion.append(location.address)\n",
    "    time.sleep(3)\n",
    "'''"
   ]
  },
  {
   "cell_type": "code",
   "execution_count": 7,
   "metadata": {
    "scrolled": true
   },
   "outputs": [
    {
     "data": {
      "text/plain": [
       "'\\ndireccione = []\\nfor i in direccion:\\n    corte = i.split(\",\")[1:]\\n    direccione.append(corte)\\n'"
      ]
     },
     "execution_count": 7,
     "metadata": {},
     "output_type": "execute_result"
    }
   ],
   "source": [
    "'''\n",
    "direccione = []\n",
    "for i in direccion:\n",
    "    corte = i.split(\",\")[1:]\n",
    "    direccione.append(corte)\n",
    "'''"
   ]
  },
  {
   "cell_type": "code",
   "execution_count": 8,
   "metadata": {},
   "outputs": [],
   "source": [
    "driver.get('https://www.spain.info/es/resultados-busqueda/index.html?q=barcelona&reloaded&page=1&rpp=36&typeFilter=SEG-TUR-AtractivoTuristicoNatural')"
   ]
  },
  {
   "cell_type": "code",
   "execution_count": 9,
   "metadata": {},
   "outputs": [],
   "source": [
    "texto_naturaleza = driver.find_elements_by_class_name('title')\n",
    "\n",
    "frase2 = []\n",
    "for i in texto_naturaleza:\n",
    "    frase2.append(i.text)"
   ]
  },
  {
   "cell_type": "code",
   "execution_count": 10,
   "metadata": {},
   "outputs": [
    {
     "data": {
      "text/plain": [
       "['Parque Natural de la Montaña de Montserrat',\n",
       " \"Parque Natural de Sant Llorenç del Munt i serra de l'Obac\",\n",
       " 'Parque Natural de las Fuentes Carrionas y Fuente Cobre-Montaña Palentina',\n",
       " 'Parque Natural de Serres de Cadí-Moixeró',\n",
       " 'Parque Natural del Montseny']"
      ]
     },
     "execution_count": 10,
     "metadata": {},
     "output_type": "execute_result"
    }
   ],
   "source": [
    "frase2 = frase2[11:17]\n",
    "frase2"
   ]
  },
  {
   "cell_type": "code",
   "execution_count": 12,
   "metadata": {},
   "outputs": [
    {
     "data": {
      "text/html": [
       "<div>\n",
       "<style scoped>\n",
       "    .dataframe tbody tr th:only-of-type {\n",
       "        vertical-align: middle;\n",
       "    }\n",
       "\n",
       "    .dataframe tbody tr th {\n",
       "        vertical-align: top;\n",
       "    }\n",
       "\n",
       "    .dataframe thead th {\n",
       "        text-align: right;\n",
       "    }\n",
       "</style>\n",
       "<table border=\"1\" class=\"dataframe\">\n",
       "  <thead>\n",
       "    <tr style=\"text-align: right;\">\n",
       "      <th></th>\n",
       "      <th>Visitar</th>\n",
       "    </tr>\n",
       "  </thead>\n",
       "  <tbody>\n",
       "    <tr>\n",
       "      <th>0</th>\n",
       "      <td>CaixaForum Madrid</td>\n",
       "    </tr>\n",
       "    <tr>\n",
       "      <th>1</th>\n",
       "      <td>Museo del Real Observatorio de Madrid</td>\n",
       "    </tr>\n",
       "    <tr>\n",
       "      <th>2</th>\n",
       "      <td>Real Colegiata de San Isidro de Madrid</td>\n",
       "    </tr>\n",
       "    <tr>\n",
       "      <th>3</th>\n",
       "      <td>Museo Arqueológico Regional de la Comunidad de...</td>\n",
       "    </tr>\n",
       "    <tr>\n",
       "      <th>4</th>\n",
       "      <td>Presidencia de la Comunidad de Madrid (Antigua...</td>\n",
       "    </tr>\n",
       "    <tr>\n",
       "      <th>5</th>\n",
       "      <td>Museo Nacional del Prado</td>\n",
       "    </tr>\n",
       "  </tbody>\n",
       "</table>\n",
       "</div>"
      ],
      "text/plain": [
       "                                             Visitar\n",
       "0                                  CaixaForum Madrid\n",
       "1              Museo del Real Observatorio de Madrid\n",
       "2             Real Colegiata de San Isidro de Madrid\n",
       "3  Museo Arqueológico Regional de la Comunidad de...\n",
       "4  Presidencia de la Comunidad de Madrid (Antigua...\n",
       "5                           Museo Nacional del Prado"
      ]
     },
     "execution_count": 12,
     "metadata": {},
     "output_type": "execute_result"
    }
   ],
   "source": [
    "df = pd.DataFrame(list(zip(frase)), columns = ['Visitar'])\n",
    "df"
   ]
  },
  {
   "cell_type": "code",
   "execution_count": 13,
   "metadata": {},
   "outputs": [
    {
     "data": {
      "text/html": [
       "<div>\n",
       "<style scoped>\n",
       "    .dataframe tbody tr th:only-of-type {\n",
       "        vertical-align: middle;\n",
       "    }\n",
       "\n",
       "    .dataframe tbody tr th {\n",
       "        vertical-align: top;\n",
       "    }\n",
       "\n",
       "    .dataframe thead th {\n",
       "        text-align: right;\n",
       "    }\n",
       "</style>\n",
       "<table border=\"1\" class=\"dataframe\">\n",
       "  <thead>\n",
       "    <tr style=\"text-align: right;\">\n",
       "      <th></th>\n",
       "      <th>Naturaleza</th>\n",
       "    </tr>\n",
       "  </thead>\n",
       "  <tbody>\n",
       "    <tr>\n",
       "      <th>0</th>\n",
       "      <td>Parque Natural de la Montaña de Montserrat</td>\n",
       "    </tr>\n",
       "    <tr>\n",
       "      <th>1</th>\n",
       "      <td>Parque Natural de Sant Llorenç del Munt i serr...</td>\n",
       "    </tr>\n",
       "    <tr>\n",
       "      <th>2</th>\n",
       "      <td>Parque Natural de las Fuentes Carrionas y Fuen...</td>\n",
       "    </tr>\n",
       "    <tr>\n",
       "      <th>3</th>\n",
       "      <td>Parque Natural de Serres de Cadí-Moixeró</td>\n",
       "    </tr>\n",
       "    <tr>\n",
       "      <th>4</th>\n",
       "      <td>Parque Natural del Montseny</td>\n",
       "    </tr>\n",
       "  </tbody>\n",
       "</table>\n",
       "</div>"
      ],
      "text/plain": [
       "                                          Naturaleza\n",
       "0         Parque Natural de la Montaña de Montserrat\n",
       "1  Parque Natural de Sant Llorenç del Munt i serr...\n",
       "2  Parque Natural de las Fuentes Carrionas y Fuen...\n",
       "3           Parque Natural de Serres de Cadí-Moixeró\n",
       "4                        Parque Natural del Montseny"
      ]
     },
     "execution_count": 13,
     "metadata": {},
     "output_type": "execute_result"
    }
   ],
   "source": [
    "df2 = pd.DataFrame(list(zip(frase2)), columns = ['Naturaleza'])\n",
    "df2"
   ]
  },
  {
   "cell_type": "code",
   "execution_count": 14,
   "metadata": {},
   "outputs": [],
   "source": [
    "result = pd.concat([df, df2], axis=1)"
   ]
  },
  {
   "cell_type": "code",
   "execution_count": 15,
   "metadata": {},
   "outputs": [
    {
     "data": {
      "text/html": [
       "<div>\n",
       "<style scoped>\n",
       "    .dataframe tbody tr th:only-of-type {\n",
       "        vertical-align: middle;\n",
       "    }\n",
       "\n",
       "    .dataframe tbody tr th {\n",
       "        vertical-align: top;\n",
       "    }\n",
       "\n",
       "    .dataframe thead th {\n",
       "        text-align: right;\n",
       "    }\n",
       "</style>\n",
       "<table border=\"1\" class=\"dataframe\">\n",
       "  <thead>\n",
       "    <tr style=\"text-align: right;\">\n",
       "      <th></th>\n",
       "      <th>Visitar</th>\n",
       "      <th>Naturaleza</th>\n",
       "    </tr>\n",
       "  </thead>\n",
       "  <tbody>\n",
       "    <tr>\n",
       "      <th>0</th>\n",
       "      <td>CaixaForum Madrid</td>\n",
       "      <td>Parque Natural de la Montaña de Montserrat</td>\n",
       "    </tr>\n",
       "    <tr>\n",
       "      <th>1</th>\n",
       "      <td>Museo del Real Observatorio de Madrid</td>\n",
       "      <td>Parque Natural de Sant Llorenç del Munt i serr...</td>\n",
       "    </tr>\n",
       "    <tr>\n",
       "      <th>2</th>\n",
       "      <td>Real Colegiata de San Isidro de Madrid</td>\n",
       "      <td>Parque Natural de las Fuentes Carrionas y Fuen...</td>\n",
       "    </tr>\n",
       "    <tr>\n",
       "      <th>3</th>\n",
       "      <td>Museo Arqueológico Regional de la Comunidad de...</td>\n",
       "      <td>Parque Natural de Serres de Cadí-Moixeró</td>\n",
       "    </tr>\n",
       "    <tr>\n",
       "      <th>4</th>\n",
       "      <td>Presidencia de la Comunidad de Madrid (Antigua...</td>\n",
       "      <td>Parque Natural del Montseny</td>\n",
       "    </tr>\n",
       "    <tr>\n",
       "      <th>5</th>\n",
       "      <td>Museo Nacional del Prado</td>\n",
       "      <td>NaN</td>\n",
       "    </tr>\n",
       "  </tbody>\n",
       "</table>\n",
       "</div>"
      ],
      "text/plain": [
       "                                             Visitar  \\\n",
       "0                                  CaixaForum Madrid   \n",
       "1              Museo del Real Observatorio de Madrid   \n",
       "2             Real Colegiata de San Isidro de Madrid   \n",
       "3  Museo Arqueológico Regional de la Comunidad de...   \n",
       "4  Presidencia de la Comunidad de Madrid (Antigua...   \n",
       "5                           Museo Nacional del Prado   \n",
       "\n",
       "                                          Naturaleza  \n",
       "0         Parque Natural de la Montaña de Montserrat  \n",
       "1  Parque Natural de Sant Llorenç del Munt i serr...  \n",
       "2  Parque Natural de las Fuentes Carrionas y Fuen...  \n",
       "3           Parque Natural de Serres de Cadí-Moixeró  \n",
       "4                        Parque Natural del Montseny  \n",
       "5                                                NaN  "
      ]
     },
     "execution_count": 15,
     "metadata": {},
     "output_type": "execute_result"
    }
   ],
   "source": [
    "result"
   ]
  },
  {
   "cell_type": "code",
   "execution_count": null,
   "metadata": {},
   "outputs": [],
   "source": []
  }
 ],
 "metadata": {
  "kernelspec": {
   "display_name": "Python 3",
   "language": "python",
   "name": "python3"
  },
  "language_info": {
   "codemirror_mode": {
    "name": "ipython",
    "version": 3
   },
   "file_extension": ".py",
   "mimetype": "text/x-python",
   "name": "python",
   "nbconvert_exporter": "python",
   "pygments_lexer": "ipython3",
   "version": "3.8.5"
  }
 },
 "nbformat": 4,
 "nbformat_minor": 4
}
