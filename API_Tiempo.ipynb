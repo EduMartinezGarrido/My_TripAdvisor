{
 "cells": [
  {
   "cell_type": "code",
   "execution_count": 1,
   "metadata": {},
   "outputs": [],
   "source": [
    "import os\n",
    "from dotenv import load_dotenv\n",
    "load_dotenv()\n",
    "import requests \n",
    "import json\n",
    "from pandas import json_normalize\n",
    "from geopy.geocoders import Nominatim"
   ]
  },
  {
   "cell_type": "code",
   "execution_count": 2,
   "metadata": {},
   "outputs": [],
   "source": [
    "api_key = os.getenv(\"Api_key\")"
   ]
  },
  {
   "cell_type": "code",
   "execution_count": 3,
   "metadata": {},
   "outputs": [],
   "source": [
    "geolocator = Nominatim(user_agent=\"edu\")\n",
    "location = geolocator.geocode(\"malaga\")\n",
    "lat = location.latitude\n",
    "lon = location.longitude"
   ]
  },
  {
   "cell_type": "code",
   "execution_count": 4,
   "metadata": {},
   "outputs": [],
   "source": [
    "url_tiempo = f\"https://api.tutiempo.net/json/?lan=es&apid={api_key}&ll={lat},{lon}\""
   ]
  },
  {
   "cell_type": "code",
   "execution_count": 5,
   "metadata": {},
   "outputs": [],
   "source": [
    "response = requests.get (url =  url_tiempo).json()"
   ]
  },
  {
   "cell_type": "code",
   "execution_count": 6,
   "metadata": {},
   "outputs": [],
   "source": [
    "dias_lista = [\"day1\",\"day2\",\"day3\",\"day4\",\"day5\",\"day6\",\"day7\"]\n",
    "dias = []\n",
    "for k,v in response.items():\n",
    "    if k in dias_lista:\n",
    "        dias.append(v)"
   ]
  },
  {
   "cell_type": "code",
   "execution_count": 7,
   "metadata": {
    "scrolled": true
   },
   "outputs": [],
   "source": [
    "df =json_normalize(dias)\n",
    "df = df.drop([\"moonrise\",\"moonset\",\"moon_phases_icon\"], axis = 1)"
   ]
  },
  {
   "cell_type": "code",
   "execution_count": 8,
   "metadata": {
    "scrolled": true
   },
   "outputs": [],
   "source": [
    "dicc = {1:\"☀️\",2:\"🌤\",4:\"⛅️\",6:\"🌥\",7:\"☁️\",9:\"☁️\",11:\"💨\",18:\"🌧\",19:\"🌧\",21:\"⛈\",22:\"⛈\",24:\"🌧\",25:\"🌪\",28:\"🌨\",29:\"🌨\",30:\"🌨\",33:\"🌦\",51:\"🌦\",54:\"🌫\"}"
   ]
  },
  {
   "cell_type": "code",
   "execution_count": 9,
   "metadata": {},
   "outputs": [],
   "source": [
    "df[\"icon\"] = df[\"icon\"].astype(int)"
   ]
  },
  {
   "cell_type": "code",
   "execution_count": 10,
   "metadata": {},
   "outputs": [],
   "source": [
    "df[\"icon\"] = df[\"icon\"].map(dicc)"
   ]
  },
  {
   "cell_type": "code",
   "execution_count": 11,
   "metadata": {},
   "outputs": [
    {
     "data": {
      "text/html": [
       "<div>\n",
       "<style scoped>\n",
       "    .dataframe tbody tr th:only-of-type {\n",
       "        vertical-align: middle;\n",
       "    }\n",
       "\n",
       "    .dataframe tbody tr th {\n",
       "        vertical-align: top;\n",
       "    }\n",
       "\n",
       "    .dataframe thead th {\n",
       "        text-align: right;\n",
       "    }\n",
       "</style>\n",
       "<table border=\"1\" class=\"dataframe\">\n",
       "  <thead>\n",
       "    <tr style=\"text-align: right;\">\n",
       "      <th></th>\n",
       "      <th>date</th>\n",
       "      <th>temperature_max</th>\n",
       "      <th>temperature_min</th>\n",
       "      <th>icon</th>\n",
       "      <th>text</th>\n",
       "      <th>humidity</th>\n",
       "      <th>wind</th>\n",
       "      <th>wind_direction</th>\n",
       "      <th>icon_wind</th>\n",
       "      <th>sunrise</th>\n",
       "      <th>sunset</th>\n",
       "    </tr>\n",
       "  </thead>\n",
       "  <tbody>\n",
       "    <tr>\n",
       "      <th>0</th>\n",
       "      <td>2021-5-14</td>\n",
       "      <td>29</td>\n",
       "      <td>17</td>\n",
       "      <td>🌥</td>\n",
       "      <td>Muy nuboso</td>\n",
       "      <td>48</td>\n",
       "      <td>21</td>\n",
       "      <td>Noroeste</td>\n",
       "      <td>NO</td>\n",
       "      <td>7:13</td>\n",
       "      <td>21:15</td>\n",
       "    </tr>\n",
       "    <tr>\n",
       "      <th>1</th>\n",
       "      <td>2021-5-15</td>\n",
       "      <td>23</td>\n",
       "      <td>15</td>\n",
       "      <td>☀️</td>\n",
       "      <td>Despejado</td>\n",
       "      <td>62</td>\n",
       "      <td>8</td>\n",
       "      <td>Sureste</td>\n",
       "      <td>SE</td>\n",
       "      <td>7:12</td>\n",
       "      <td>21:16</td>\n",
       "    </tr>\n",
       "    <tr>\n",
       "      <th>2</th>\n",
       "      <td>2021-5-16</td>\n",
       "      <td>29</td>\n",
       "      <td>19</td>\n",
       "      <td>☀️</td>\n",
       "      <td>Despejado</td>\n",
       "      <td>47</td>\n",
       "      <td>11</td>\n",
       "      <td>Suroeste</td>\n",
       "      <td>SO</td>\n",
       "      <td>7:11</td>\n",
       "      <td>21:17</td>\n",
       "    </tr>\n",
       "    <tr>\n",
       "      <th>3</th>\n",
       "      <td>2021-5-17</td>\n",
       "      <td>30</td>\n",
       "      <td>19</td>\n",
       "      <td>🌥</td>\n",
       "      <td>Muy nuboso</td>\n",
       "      <td>50</td>\n",
       "      <td>21</td>\n",
       "      <td>Noroeste</td>\n",
       "      <td>NO</td>\n",
       "      <td>7:11</td>\n",
       "      <td>21:18</td>\n",
       "    </tr>\n",
       "    <tr>\n",
       "      <th>4</th>\n",
       "      <td>2021-5-18</td>\n",
       "      <td>21</td>\n",
       "      <td>16</td>\n",
       "      <td>🌥</td>\n",
       "      <td>Muy nuboso</td>\n",
       "      <td>81</td>\n",
       "      <td>10</td>\n",
       "      <td>Sur</td>\n",
       "      <td>S</td>\n",
       "      <td>7:10</td>\n",
       "      <td>21:19</td>\n",
       "    </tr>\n",
       "    <tr>\n",
       "      <th>5</th>\n",
       "      <td>2021-5-19</td>\n",
       "      <td>22</td>\n",
       "      <td>16</td>\n",
       "      <td>🌤</td>\n",
       "      <td>Nubes dispersas</td>\n",
       "      <td>69</td>\n",
       "      <td>14</td>\n",
       "      <td>Sureste</td>\n",
       "      <td>SE</td>\n",
       "      <td>7:09</td>\n",
       "      <td>21:19</td>\n",
       "    </tr>\n",
       "    <tr>\n",
       "      <th>6</th>\n",
       "      <td>2021-5-20</td>\n",
       "      <td>24</td>\n",
       "      <td>17</td>\n",
       "      <td>☁️</td>\n",
       "      <td>Cubierto</td>\n",
       "      <td>60</td>\n",
       "      <td>13</td>\n",
       "      <td>Sur</td>\n",
       "      <td>S</td>\n",
       "      <td>7:08</td>\n",
       "      <td>21:20</td>\n",
       "    </tr>\n",
       "  </tbody>\n",
       "</table>\n",
       "</div>"
      ],
      "text/plain": [
       "        date  temperature_max  temperature_min icon             text  \\\n",
       "0  2021-5-14               29               17    🌥       Muy nuboso   \n",
       "1  2021-5-15               23               15   ☀️        Despejado   \n",
       "2  2021-5-16               29               19   ☀️        Despejado   \n",
       "3  2021-5-17               30               19    🌥       Muy nuboso   \n",
       "4  2021-5-18               21               16    🌥       Muy nuboso   \n",
       "5  2021-5-19               22               16    🌤  Nubes dispersas   \n",
       "6  2021-5-20               24               17   ☁️         Cubierto   \n",
       "\n",
       "   humidity  wind wind_direction icon_wind sunrise sunset  \n",
       "0        48    21       Noroeste        NO    7:13  21:15  \n",
       "1        62     8        Sureste        SE    7:12  21:16  \n",
       "2        47    11       Suroeste        SO    7:11  21:17  \n",
       "3        50    21       Noroeste        NO    7:11  21:18  \n",
       "4        81    10            Sur         S    7:10  21:19  \n",
       "5        69    14        Sureste        SE    7:09  21:19  \n",
       "6        60    13            Sur         S    7:08  21:20  "
      ]
     },
     "execution_count": 11,
     "metadata": {},
     "output_type": "execute_result"
    }
   ],
   "source": [
    "df"
   ]
  },
  {
   "cell_type": "code",
   "execution_count": 12,
   "metadata": {},
   "outputs": [],
   "source": [
    "dibujo = \"https://v5i.tutiempo.net/wi/01/50/2.png\"\n",
    "response2 = requests.get (url =  dibujo)"
   ]
  },
  {
   "cell_type": "code",
   "execution_count": 13,
   "metadata": {},
   "outputs": [
    {
     "data": {
      "image/png": "[encoded data removed]",
      "text/plain": [
       "<IPython.core.display.Image object>"
      ]
     },
     "execution_count": 13,
     "metadata": {},
     "output_type": "execute_result"
    }
   ],
   "source": [
    "from IPython.display import Image\n",
    "Image(\"./33.png\")"
   ]
  },
  {
   "cell_type": "code",
   "execution_count": null,
   "metadata": {},
   "outputs": [],
   "source": []
  }
 ],
 "metadata": {
  "kernelspec": {
   "display_name": "Python 3",
   "language": "python",
   "name": "python3"
  },
  "language_info": {
   "codemirror_mode": {
    "name": "ipython",
    "version": 3
   },
   "file_extension": ".py",
   "mimetype": "text/x-python",
   "name": "python",
   "nbconvert_exporter": "python",
   "pygments_lexer": "ipython3",
   "version": "3.8.5"
  }
 },
 "nbformat": 4,
 "nbformat_minor": 4
}
