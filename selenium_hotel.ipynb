{
 "cells": [
  {
   "cell_type": "code",
   "execution_count": 1,
   "metadata": {},
   "outputs": [],
   "source": [
    "from selenium import webdriver\n",
    "from selenium.webdriver.support.ui import WebDriverWait \n",
    "from selenium.webdriver.support import expected_conditions as EC\n",
    "from selenium.webdriver.common.by import By\n",
    "from. selenium.webdriver import ActionsChains as AC\n",
    "from bs4 import BeautifulSoup\n",
    "import requests\n",
    "import re\n",
    "import pandas as pd\n",
    "import numpy as np\n",
    "from datetime import date, timedelta, datetime\n",
    "import time"
   ]
  },
  {
   "cell_type": "code",
   "execution_count": 2,
   "metadata": {},
   "outputs": [],
   "source": [
    "options =  webdriver.ChromeOptions()\n",
    "options.add_argument('--start-maximized')\n",
    "options.add_argument('--disable-extensions')\n",
    "\n",
    "driver = webdriver.Chrome(\"./chromedriver\")"
   ]
  },
  {
   "cell_type": "code",
   "execution_count": 3,
   "metadata": {},
   "outputs": [],
   "source": [
    "driver.get('https://www.atrapalo.com/hoteles')"
   ]
  },
  {
   "cell_type": "code",
   "execution_count": 4,
   "metadata": {},
   "outputs": [],
   "source": [
    "driver.find_element_by_class_name(\"default-input.tt-input\").click()\n"
   ]
  },
  {
   "cell_type": "code",
   "execution_count": 5,
   "metadata": {},
   "outputs": [],
   "source": [
    "driver.find_element_by_class_name(\"default-input.tt-input\").send_keys(\"valencia\")"
   ]
  },
  {
   "cell_type": "code",
   "execution_count": 6,
   "metadata": {
    "scrolled": true
   },
   "outputs": [],
   "source": [
    "driver.find_element_by_class_name(\"boton-buscar.form-submit.columns.large-1.large-uncentered.show-for-large\").click()"
   ]
  },
  {
   "cell_type": "code",
   "execution_count": 7,
   "metadata": {
    "scrolled": true
   },
   "outputs": [],
   "source": [
    "time.sleep(10)\n",
    "driver.find_element_by_xpath('//*[@id=\"sortingContainer\"]/nav/div[2]/ul/li[2]').click()"
   ]
  },
  {
   "cell_type": "code",
   "execution_count": 8,
   "metadata": {},
   "outputs": [],
   "source": [
    "texto_columnas = driver.find_element_by_class_name('hotels-list.box-resultados')"
   ]
  },
  {
   "cell_type": "markdown",
   "metadata": {},
   "source": [
    "## Sacar Hoteles"
   ]
  },
  {
   "cell_type": "code",
   "execution_count": 9,
   "metadata": {},
   "outputs": [],
   "source": [
    "texto_hoteles = texto_columnas.find_elements_by_class_name('product-name')\n",
    "hotel = texto_hoteles[0:3]\n",
    "time.sleep(2)"
   ]
  },
  {
   "cell_type": "code",
   "execution_count": 10,
   "metadata": {},
   "outputs": [],
   "source": [
    "time.sleep(2)\n",
    "hoteles = []\n",
    "for i in hotel:\n",
    "    primero = i.get_attribute(\"title\")\n",
    "    hoteles.append(primero)"
   ]
  },
  {
   "cell_type": "markdown",
   "metadata": {},
   "source": [
    "## Sacar Precio"
   ]
  },
  {
   "cell_type": "code",
   "execution_count": 11,
   "metadata": {},
   "outputs": [],
   "source": [
    "texto_precio = texto_columnas.find_elements_by_class_name('value')\n",
    "texto_precio = texto_precio[0:3]"
   ]
  },
  {
   "cell_type": "code",
   "execution_count": 12,
   "metadata": {},
   "outputs": [],
   "source": [
    "precio = []\n",
    "for i in texto_precio:\n",
    "    precio.append(i.text)\n",
    "    time.sleep(1)"
   ]
  },
  {
   "cell_type": "markdown",
   "metadata": {},
   "source": [
    "## Sacar distancia"
   ]
  },
  {
   "cell_type": "code",
   "execution_count": 13,
   "metadata": {},
   "outputs": [],
   "source": [
    "texto_distancia = texto_columnas.find_elements_by_class_name('item-location')\n",
    "texto_distancia = texto_distancia[0:3]"
   ]
  },
  {
   "cell_type": "code",
   "execution_count": 14,
   "metadata": {},
   "outputs": [],
   "source": [
    "distancia = []\n",
    "for i in texto_distancia:\n",
    "    distancia.append(i.text)"
   ]
  },
  {
   "cell_type": "markdown",
   "metadata": {},
   "source": [
    "## Sacar dirección"
   ]
  },
  {
   "cell_type": "code",
   "execution_count": 15,
   "metadata": {},
   "outputs": [],
   "source": [
    "direcc = []\n",
    "for i in hotel:\n",
    "    primero = i.get_attribute(\"href\")\n",
    "    direcc.append(primero)"
   ]
  },
  {
   "cell_type": "code",
   "execution_count": 16,
   "metadata": {},
   "outputs": [
    {
     "data": {
      "text/plain": [
       "['https://www.atrapalo.com/hoteles/88951-0_russafa-youth-hostel?atoken=b742f9fa6a920a5b5b62ca09ef3710cb&utoken=1:10:0:0:4b0ed&noredirect=1',\n",
       " 'https://www.atrapalo.com/hoteles/164081-0_hotel-travelodge-valencia-aeropuerto-manises-?atoken=b742f9fa6a920a5b5b62ca09ef3710cb&utoken=1:10:0:0:4b0ed&noredirect=1',\n",
       " 'https://www.atrapalo.com/hoteles/730644-0_bed-i-breakfast-hi-valencia-canovas?atoken=b742f9fa6a920a5b5b62ca09ef3710cb&utoken=1:10:0:0:4b0ed&noredirect=1']"
      ]
     },
     "execution_count": 16,
     "metadata": {},
     "output_type": "execute_result"
    }
   ],
   "source": [
    "direcc = direcc[0:4]\n",
    "direcc"
   ]
  },
  {
   "cell_type": "code",
   "execution_count": 17,
   "metadata": {},
   "outputs": [],
   "source": [
    "driver.quit()"
   ]
  },
  {
   "cell_type": "code",
   "execution_count": 18,
   "metadata": {},
   "outputs": [],
   "source": [
    "time.sleep(5)\n",
    "address = []\n",
    "for link in direcc:\n",
    "    driver = webdriver.Chrome(\"./chromedriver\")\n",
    "    driver.get(link)\n",
    "    time.sleep(3)\n",
    "    calle = driver.find_element_by_css_selector(\"span.app-address\")\n",
    "    calle = calle.text\n",
    "    address.append(calle)\n",
    "    driver.quit()"
   ]
  },
  {
   "cell_type": "code",
   "execution_count": 19,
   "metadata": {},
   "outputs": [
    {
     "data": {
      "text/plain": [
       "['Russafa Youth Hostel Albergue',\n",
       " 'Hotel Travelodge Valencia Aeropuerto (manises) 1 Estrella',\n",
       " 'Bed & Breakfast Hi Valencia Cánovas Bed&Breakfast']"
      ]
     },
     "execution_count": 19,
     "metadata": {},
     "output_type": "execute_result"
    }
   ],
   "source": [
    "hoteles"
   ]
  },
  {
   "cell_type": "code",
   "execution_count": 20,
   "metadata": {},
   "outputs": [
    {
     "data": {
      "text/plain": [
       "['32€', '38€', '42€']"
      ]
     },
     "execution_count": 20,
     "metadata": {},
     "output_type": "execute_result"
    }
   ],
   "source": [
    "precio"
   ]
  },
  {
   "cell_type": "code",
   "execution_count": 21,
   "metadata": {},
   "outputs": [
    {
     "data": {
      "text/plain": [
       "['Valencia a 0,57 km del centro',\n",
       " 'Valencia a 8,46 km del centro',\n",
       " 'Valencia a 0,92 km del centro']"
      ]
     },
     "execution_count": 21,
     "metadata": {},
     "output_type": "execute_result"
    }
   ],
   "source": [
    "distancia"
   ]
  },
  {
   "cell_type": "code",
   "execution_count": 22,
   "metadata": {},
   "outputs": [
    {
     "data": {
      "text/plain": [
       "['Padre Perera, 5 - 1º, Valencia 46006, Valencia (España) ',\n",
       " 'C/ Las Rosas, 31 - 46940, Valencia 46940, Valencia (España) ',\n",
       " 'Calle Cirilo Amorós 82 pta. 6, Valencia 46004, Valencia (España) ']"
      ]
     },
     "execution_count": 22,
     "metadata": {},
     "output_type": "execute_result"
    }
   ],
   "source": [
    "address"
   ]
  },
  {
   "cell_type": "code",
   "execution_count": null,
   "metadata": {},
   "outputs": [],
   "source": []
  }
 ],
 "metadata": {
  "kernelspec": {
   "display_name": "Python 3",
   "language": "python",
   "name": "python3"
  },
  "language_info": {
   "codemirror_mode": {
    "name": "ipython",
    "version": 3
   },
   "file_extension": ".py",
   "mimetype": "text/x-python",
   "name": "python",
   "nbconvert_exporter": "python",
   "pygments_lexer": "ipython3",
   "version": "3.8.5"
  }
 },
 "nbformat": 4,
 "nbformat_minor": 4
}
