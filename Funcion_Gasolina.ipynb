{
 "cells": [
  {
   "cell_type": "code",
   "execution_count": 1,
   "metadata": {},
   "outputs": [],
   "source": [
    "from geopy.geocoders import Nominatim\n",
    "from geopy.distance import geodesic"
   ]
  },
  {
   "cell_type": "code",
   "execution_count": 7,
   "metadata": {},
   "outputs": [],
   "source": [
    "def gasolinazo(ciudad_ida,ciudad_vuelta):\n",
    "    geolocator = Nominatim(user_agent=\"edu\", timeout=5)\n",
    "    location1 = geolocator.geocode(ciudad_ida)\n",
    "    location2 = geolocator.geocode(ciudad_vuelta)\n",
    "    madrid_coor = (location1.latitude,location1.longitude)\n",
    "    malaga_coor = (location2.latitude,location2.longitude)\n",
    "\n",
    "    distancia = geodesic(madrid_coor,malaga_coor).km\n",
    "    distancia = distancia + 120\n",
    "    precio_gasolina = 1359\n",
    "    coste = (distancia/precio_gasolina *100) * 2\n",
    "    return coste"
   ]
  },
  {
   "cell_type": "code",
   "execution_count": 8,
   "metadata": {},
   "outputs": [
    {
     "data": {
      "text/plain": [
       "92.2622539743724"
      ]
     },
     "execution_count": 8,
     "metadata": {},
     "output_type": "execute_result"
    }
   ],
   "source": [
    "gasolinazo(\"Madrid\",\"Barcelona\")\n"
   ]
  },
  {
   "cell_type": "code",
   "execution_count": null,
   "metadata": {},
   "outputs": [],
   "source": []
  }
 ],
 "metadata": {
  "kernelspec": {
   "display_name": "Python 3",
   "language": "python",
   "name": "python3"
  },
  "language_info": {
   "codemirror_mode": {
    "name": "ipython",
    "version": 3
   },
   "file_extension": ".py",
   "mimetype": "text/x-python",
   "name": "python",
   "nbconvert_exporter": "python",
   "pygments_lexer": "ipython3",
   "version": "3.8.5"
  }
 },
 "nbformat": 4,
 "nbformat_minor": 4
}
