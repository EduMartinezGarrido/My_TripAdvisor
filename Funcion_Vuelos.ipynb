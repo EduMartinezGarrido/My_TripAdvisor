{
 "cells": [
  {
   "cell_type": "code",
   "execution_count": 1,
   "metadata": {},
   "outputs": [],
   "source": [
    "from selenium import webdriver\n",
    "from selenium.webdriver.support.ui import WebDriverWait \n",
    "from selenium.webdriver.support import expected_conditions as EC\n",
    "from selenium.webdriver.common.by import By\n",
    "from bs4 import BeautifulSoup\n",
    "import requests\n",
    "import re\n",
    "import pandas as pd\n",
    "import numpy as np\n",
    "import time"
   ]
  },
  {
   "cell_type": "code",
   "execution_count": 2,
   "metadata": {},
   "outputs": [],
   "source": [
    "def vuelazos(ciudad_ida,ciudad_vuelta,fecha_ida,fecha_vuelta):\n",
    "    \n",
    "    dicc = {\"Alicante\":\"ALC\",\"Almeria\":\"LEI\",\"Badajoz\":\"BJZ\",\"Barcelona\":\"BCN\",\"Bilbao\":\"BIO\",\"Burgos\":\"RGS\",\"Castellon\":\"CDT\",\n",
    "    \"Cordoba\":\"ODB\",\"San_Sebastián\":\"EAS\",\"Gerona\":\"GRO\",\"Granada\":\"GRX\",\"Fuerteventura\":\"FUE\",\"Huesca\":\"HSK\",\"Ibiza\":\"IBZ\",\"Jerez\":\"XRZ\",\n",
    "    \"Lanzarote\":\"ACE\",\"Gran_Canaria\":\"LPA\",\"La_Coruña\":\"LCG\",\"La_Gomera\":\"GMZ\",\"Leon\":\"LEN\",\"Logroño\":\"RJL\",\"Albacete\":\"ABC\",\n",
    "    \"Madrid\":\"MAD\",\"Malaga\":\"AGP\",\"Melilla\":\"MLN\",\"Menorca\":\"MAH\",\"Murcia\":\"MJV\",\"Asturias\":\"OVD\",\"Mallorca\":\"PMI\",\"La_Palma\":\"SPC\",\n",
    "    \"Pamplona\":\"PNA\",\"Reus\":\"REU\",\"Sabadell\":\"QSA\",\"Salamanca\":\"SLM\",\"Santiago_de_Compostela\":\"SCQ\",\"Santander\":\"SDR\",\"Sevilla\":\"SVQ\",\"Tenerife_Norte\":\"TFN\",\n",
    "    \"Tenerife_Sur\":\"TFS\",\"Valencia\":\"VLC\",\"Valladolid\":\"VLL\",\"El_Hierro\":\"VDE\",\"Vigo\":\"VGO\",\"Vitoria\":\"VIT\",\"Zaragoza\":\"ZAZ\"\n",
    "           }\n",
    "    \n",
    "    options =  webdriver.ChromeOptions()\n",
    "    options.add_argument('--start-maximized')\n",
    "    options.add_argument('--disable-extensions')\n",
    "\n",
    "    driver = webdriver.Chrome(\"./chromedriver\")\n",
    "    URL = 'https://www.vuelosbaratos.es/Buscar/'\n",
    "    driver.get(URL + dicc.get(f'{ciudad_ida}')+'-'+dicc.get(f'{ciudad_vuelta}')+'/'+ f'{fecha_ida}'+'/'+f'{fecha_vuelta}'+'/ES/')\n",
    "    time.sleep(3)\n",
    "    \n",
    "    # Precio Vuelos\n",
    "    precio = driver.find_elements_by_class_name(\"ResultPrice\")\n",
    "\n",
    "    precios = []\n",
    "    for i in precio[::2]:\n",
    "        precios.append(i.text)\n",
    "\n",
    "    precios[:3]\n",
    "\n",
    "    ## Salida Vuelos\n",
    "\n",
    "    fecha = driver.find_elements_by_class_name(\"groupDetailsCell\")\n",
    "    fechass = []\n",
    "    for i in fecha:\n",
    "        fechass.append(i.text)\n",
    "    \n",
    "    fechas = []\n",
    "    for i in fechass:\n",
    "        i = i[-5:]\n",
    "        fechas.append(i)\n",
    "\n",
    "    salida = []\n",
    "    for i in fechas[::2]:\n",
    "        salida.append(i)   \n",
    "\n",
    "    salida_ida = []\n",
    "    for i in salida[::2]:\n",
    "        i = i.replace(\"\\n\",\" \")\n",
    "        salida_ida.append(i)\n",
    "\n",
    "    salida_vuelta = []\n",
    "    for i in salida[1::2]:\n",
    "        i = i.replace(\"\\n\",\" \")\n",
    "        salida_vuelta.append(i)\n",
    "\n",
    "    llegada = []\n",
    "    for i in fechas[1::2]:\n",
    "        llegada.append(i)\n",
    "\n",
    "    llegada_ida = []\n",
    "    for i in llegada[::2]:\n",
    "        i = i.replace(\"\\n\",\" \")\n",
    "        llegada_ida.append(i)\n",
    "\n",
    "    llegada_vuelta = []\n",
    "    for i in llegada[1::2]:\n",
    "        i = i.replace(\"\\n\",\" \")\n",
    "        llegada_vuelta.append(i)\n",
    "    \n",
    "    df = pd.DataFrame(list(zip(precios,salida_ida,llegada_ida,salida_vuelta,llegada_vuelta)), columns = ['Precio',f'Salida_{ciudad_ida}',f'Llegada_{ciudad_vuelta}',f'Salida_{ciudad_vuelta}',f'Llegada_{ciudad_ida}'])\n",
    "    \n",
    "    return df"
   ]
  },
  {
   "cell_type": "code",
   "execution_count": null,
   "metadata": {
    "scrolled": true
   },
   "outputs": [],
   "source": [
    "vuelazos(\"Madrid\",\"Tenerife_Norte\",\"2021-5-18\",\"2021-5-25\")"
   ]
  },
  {
   "cell_type": "code",
   "execution_count": null,
   "metadata": {},
   "outputs": [],
   "source": []
  }
 ],
 "metadata": {
  "kernelspec": {
   "display_name": "Python 3",
   "language": "python",
   "name": "python3"
  },
  "language_info": {
   "codemirror_mode": {
    "name": "ipython",
    "version": 3
   },
   "file_extension": ".py",
   "mimetype": "text/x-python",
   "name": "python",
   "nbconvert_exporter": "python",
   "pygments_lexer": "ipython3",
   "version": "3.8.5"
  }
 },
 "nbformat": 4,
 "nbformat_minor": 4
}
