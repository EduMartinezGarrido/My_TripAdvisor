{
 "cells": [
  {
   "cell_type": "code",
   "execution_count": 1,
   "metadata": {},
   "outputs": [],
   "source": [
    "from selenium import webdriver\n",
    "from selenium.webdriver.support.ui import WebDriverWait \n",
    "from selenium.webdriver.support import expected_conditions as EC\n",
    "from selenium.webdriver.common.by import By\n",
    "from bs4 import BeautifulSoup\n",
    "import requests\n",
    "import re\n",
    "import pandas as pd\n",
    "import numpy as np\n",
    "import time"
   ]
  },
  {
   "cell_type": "code",
   "execution_count": 4,
   "metadata": {},
   "outputs": [],
   "source": [
    "def vuelazos(ciudad_ida,ciudad_vuelta,fecha_ida,fecha_vuelta):\n",
    "    \n",
    "    dicc = {\"Alicante\":\"ALC\",\"Almeria\":\"LEI\",\"Badajoz\":\"BJZ\",\"Barcelona\":\"BCN\",\"Bilbao\":\"BIO\",\"Burgos\":\"RGS\",\"Castellon\":\"CDT\",\n",
    "    \"Cordoba\":\"ODB\",\"San_Sebastián\":\"EAS\",\"Gerona\":\"GRO\",\"Granada\":\"GRX\",\"Fuerteventura\":\"FUE\",\"Huesca\":\"HSK\",\"Ibiza\":\"IBZ\",\"Jerez\":\"XRZ\",\n",
    "    \"Lanzarote\":\"ACE\",\"Gran_Canaria\":\"LPA\",\"La_Coruña\":\"LCG\",\"La_Gomera\":\"GMZ\",\"Leon\":\"LEN\",\"Logroño\":\"RJL\",\"Albacete\":\"ABC\",\n",
    "    \"Madrid\":\"MAD\",\"Malaga\":\"AGP\",\"Melilla\":\"MLN\",\"Menorca\":\"MAH\",\"Murcia\":\"MJV\",\"Asturias\":\"OVD\",\"Mallorca\":\"PMI\",\"La_Palma\":\"SPC\",\n",
    "    \"Pamplona\":\"PNA\",\"Reus\":\"REU\",\"Sabadell\":\"QSA\",\"Salamanca\":\"SLM\",\"Santiago_de_Compostela\":\"SCQ\",\"Santander\":\"SDR\",\"Sevilla\":\"SVQ\",\"Tenerife_Norte\":\"TFN\",\n",
    "    \"Tenerife_Sur\":\"TFS\",\"Valencia\":\"VLC\",\"Valladolid\":\"VLL\",\"El_Hierro\":\"VDE\",\"Vigo\":\"VGO\",\"Vitoria\":\"VIT\",\"Zaragoza\":\"ZAZ\"\n",
    "           }\n",
    "    \n",
    "    options =  webdriver.ChromeOptions()\n",
    "    #options.add_argument('--start-maximized')\n",
    "    options.add_argument(\"headless\")\n",
    "    options.add_argument('--disable-extensions')\n",
    "    options.add_experimental_option('useAutomationExtension', False)\n",
    "    options.add_experimental_option('excludeSwitches', ['enable-automation'])\n",
    "\n",
    "    driver = webdriver.Chrome(\"./chromedriver\")\n",
    "    URL = 'https://www.vuelosbaratos.es/Buscar/'\n",
    "    driver.get(URL + dicc.get(f'{ciudad_ida}')+'-'+dicc.get(f'{ciudad_vuelta}')+'/'+ f'{fecha_ida}'+'/'+f'{fecha_vuelta}'+'/ES/')\n",
    "    time.sleep(3)\n",
    "    \n",
    "    # Precio Vuelos\n",
    "    precio = driver.find_elements_by_class_name(\"ResultPrice\")\n",
    "\n",
    "    precios = []\n",
    "    for i in precio[::2]:\n",
    "        precios.append(i.text)\n",
    "\n",
    "    precios[:3]\n",
    "\n",
    "    ## Salida Vuelos\n",
    "\n",
    "    fecha = driver.find_elements_by_class_name(\"groupDetailsCell\")\n",
    "    fechass = []\n",
    "    for i in fecha:\n",
    "        fechass.append(i.text)\n",
    "    \n",
    "    fechas = []\n",
    "    for i in fechass:\n",
    "        i = i[-5:]\n",
    "        fechas.append(i)\n",
    "\n",
    "    salida = []\n",
    "    for i in fechas[::2]:\n",
    "        salida.append(i)   \n",
    "\n",
    "    salida_ida = []\n",
    "    for i in salida[::2]:\n",
    "        i = i.replace(\"\\n\",\" \")\n",
    "        salida_ida.append(i)\n",
    "\n",
    "    salida_vuelta = []\n",
    "    for i in salida[1::2]:\n",
    "        i = i.replace(\"\\n\",\" \")\n",
    "        salida_vuelta.append(i)\n",
    "\n",
    "    llegada = []\n",
    "    for i in fechas[1::2]:\n",
    "        llegada.append(i)\n",
    "\n",
    "    llegada_ida = []\n",
    "    for i in llegada[::2]:\n",
    "        i = i.replace(\"\\n\",\" \")\n",
    "        llegada_ida.append(i)\n",
    "\n",
    "    llegada_vuelta = []\n",
    "    for i in llegada[1::2]:\n",
    "        i = i.replace(\"\\n\",\" \")\n",
    "        llegada_vuelta.append(i)\n",
    "    \n",
    "    df = pd.DataFrame(list(zip(precios,salida_ida,llegada_ida,salida_vuelta,llegada_vuelta)), columns = ['Precio',f'Salida_{ciudad_ida}',f'Llegada_{ciudad_vuelta}',f'Salida_{ciudad_vuelta}',f'Llegada_{ciudad_ida}'])\n",
    "    \n",
    "    return df"
   ]
  },
  {
   "cell_type": "code",
   "execution_count": 5,
   "metadata": {
    "scrolled": true
   },
   "outputs": [
    {
     "ename": "WebDriverException",
     "evalue": "Message: unknown error: net::ERR_INTERNET_DISCONNECTED\n  (Session info: chrome=90.0.4430.212)\n",
     "output_type": "error",
     "traceback": [
      "\u001b[0;31m---------------------------------------------------------------------------\u001b[0m",
      "\u001b[0;31mWebDriverException\u001b[0m                        Traceback (most recent call last)",
      "\u001b[0;32m<ipython-input-5-f306731edf5c>\u001b[0m in \u001b[0;36m<module>\u001b[0;34m\u001b[0m\n\u001b[0;32m----> 1\u001b[0;31m \u001b[0mvuelazos\u001b[0m\u001b[0;34m(\u001b[0m\u001b[0;34m\"Madrid\"\u001b[0m\u001b[0;34m,\u001b[0m\u001b[0;34m\"Barcelona\"\u001b[0m\u001b[0;34m,\u001b[0m\u001b[0;34m\"2021-5-20\"\u001b[0m\u001b[0;34m,\u001b[0m\u001b[0;34m\"2021-5-25\"\u001b[0m\u001b[0;34m)\u001b[0m\u001b[0;34m\u001b[0m\u001b[0;34m\u001b[0m\u001b[0m\n\u001b[0m",
      "\u001b[0;32m<ipython-input-4-df8b1f6773df>\u001b[0m in \u001b[0;36mvuelazos\u001b[0;34m(ciudad_ida, ciudad_vuelta, fecha_ida, fecha_vuelta)\u001b[0m\n\u001b[1;32m     18\u001b[0m     \u001b[0mdriver\u001b[0m \u001b[0;34m=\u001b[0m \u001b[0mwebdriver\u001b[0m\u001b[0;34m.\u001b[0m\u001b[0mChrome\u001b[0m\u001b[0;34m(\u001b[0m\u001b[0;34m\"./chromedriver\"\u001b[0m\u001b[0;34m)\u001b[0m\u001b[0;34m\u001b[0m\u001b[0;34m\u001b[0m\u001b[0m\n\u001b[1;32m     19\u001b[0m     \u001b[0mURL\u001b[0m \u001b[0;34m=\u001b[0m \u001b[0;34m'https://www.vuelosbaratos.es/Buscar/'\u001b[0m\u001b[0;34m\u001b[0m\u001b[0;34m\u001b[0m\u001b[0m\n\u001b[0;32m---> 20\u001b[0;31m     \u001b[0mdriver\u001b[0m\u001b[0;34m.\u001b[0m\u001b[0mget\u001b[0m\u001b[0;34m(\u001b[0m\u001b[0mURL\u001b[0m \u001b[0;34m+\u001b[0m \u001b[0mdicc\u001b[0m\u001b[0;34m.\u001b[0m\u001b[0mget\u001b[0m\u001b[0;34m(\u001b[0m\u001b[0;34mf'{ciudad_ida}'\u001b[0m\u001b[0;34m)\u001b[0m\u001b[0;34m+\u001b[0m\u001b[0;34m'-'\u001b[0m\u001b[0;34m+\u001b[0m\u001b[0mdicc\u001b[0m\u001b[0;34m.\u001b[0m\u001b[0mget\u001b[0m\u001b[0;34m(\u001b[0m\u001b[0;34mf'{ciudad_vuelta}'\u001b[0m\u001b[0;34m)\u001b[0m\u001b[0;34m+\u001b[0m\u001b[0;34m'/'\u001b[0m\u001b[0;34m+\u001b[0m \u001b[0;34mf'{fecha_ida}'\u001b[0m\u001b[0;34m+\u001b[0m\u001b[0;34m'/'\u001b[0m\u001b[0;34m+\u001b[0m\u001b[0;34mf'{fecha_vuelta}'\u001b[0m\u001b[0;34m+\u001b[0m\u001b[0;34m'/ES/'\u001b[0m\u001b[0;34m)\u001b[0m\u001b[0;34m\u001b[0m\u001b[0;34m\u001b[0m\u001b[0m\n\u001b[0m\u001b[1;32m     21\u001b[0m     \u001b[0mtime\u001b[0m\u001b[0;34m.\u001b[0m\u001b[0msleep\u001b[0m\u001b[0;34m(\u001b[0m\u001b[0;36m3\u001b[0m\u001b[0;34m)\u001b[0m\u001b[0;34m\u001b[0m\u001b[0;34m\u001b[0m\u001b[0m\n\u001b[1;32m     22\u001b[0m \u001b[0;34m\u001b[0m\u001b[0m\n",
      "\u001b[0;32m~/opt/anaconda3/lib/python3.8/site-packages/selenium/webdriver/remote/webdriver.py\u001b[0m in \u001b[0;36mget\u001b[0;34m(self, url)\u001b[0m\n\u001b[1;32m    331\u001b[0m         \u001b[0mLoads\u001b[0m \u001b[0ma\u001b[0m \u001b[0mweb\u001b[0m \u001b[0mpage\u001b[0m \u001b[0;32min\u001b[0m \u001b[0mthe\u001b[0m \u001b[0mcurrent\u001b[0m \u001b[0mbrowser\u001b[0m \u001b[0msession\u001b[0m\u001b[0;34m.\u001b[0m\u001b[0;34m\u001b[0m\u001b[0;34m\u001b[0m\u001b[0m\n\u001b[1;32m    332\u001b[0m         \"\"\"\n\u001b[0;32m--> 333\u001b[0;31m         \u001b[0mself\u001b[0m\u001b[0;34m.\u001b[0m\u001b[0mexecute\u001b[0m\u001b[0;34m(\u001b[0m\u001b[0mCommand\u001b[0m\u001b[0;34m.\u001b[0m\u001b[0mGET\u001b[0m\u001b[0;34m,\u001b[0m \u001b[0;34m{\u001b[0m\u001b[0;34m'url'\u001b[0m\u001b[0;34m:\u001b[0m \u001b[0murl\u001b[0m\u001b[0;34m}\u001b[0m\u001b[0;34m)\u001b[0m\u001b[0;34m\u001b[0m\u001b[0;34m\u001b[0m\u001b[0m\n\u001b[0m\u001b[1;32m    334\u001b[0m \u001b[0;34m\u001b[0m\u001b[0m\n\u001b[1;32m    335\u001b[0m     \u001b[0;34m@\u001b[0m\u001b[0mproperty\u001b[0m\u001b[0;34m\u001b[0m\u001b[0;34m\u001b[0m\u001b[0m\n",
      "\u001b[0;32m~/opt/anaconda3/lib/python3.8/site-packages/selenium/webdriver/remote/webdriver.py\u001b[0m in \u001b[0;36mexecute\u001b[0;34m(self, driver_command, params)\u001b[0m\n\u001b[1;32m    319\u001b[0m         \u001b[0mresponse\u001b[0m \u001b[0;34m=\u001b[0m \u001b[0mself\u001b[0m\u001b[0;34m.\u001b[0m\u001b[0mcommand_executor\u001b[0m\u001b[0;34m.\u001b[0m\u001b[0mexecute\u001b[0m\u001b[0;34m(\u001b[0m\u001b[0mdriver_command\u001b[0m\u001b[0;34m,\u001b[0m \u001b[0mparams\u001b[0m\u001b[0;34m)\u001b[0m\u001b[0;34m\u001b[0m\u001b[0;34m\u001b[0m\u001b[0m\n\u001b[1;32m    320\u001b[0m         \u001b[0;32mif\u001b[0m \u001b[0mresponse\u001b[0m\u001b[0;34m:\u001b[0m\u001b[0;34m\u001b[0m\u001b[0;34m\u001b[0m\u001b[0m\n\u001b[0;32m--> 321\u001b[0;31m             \u001b[0mself\u001b[0m\u001b[0;34m.\u001b[0m\u001b[0merror_handler\u001b[0m\u001b[0;34m.\u001b[0m\u001b[0mcheck_response\u001b[0m\u001b[0;34m(\u001b[0m\u001b[0mresponse\u001b[0m\u001b[0;34m)\u001b[0m\u001b[0;34m\u001b[0m\u001b[0;34m\u001b[0m\u001b[0m\n\u001b[0m\u001b[1;32m    322\u001b[0m             response['value'] = self._unwrap_value(\n\u001b[1;32m    323\u001b[0m                 response.get('value', None))\n",
      "\u001b[0;32m~/opt/anaconda3/lib/python3.8/site-packages/selenium/webdriver/remote/errorhandler.py\u001b[0m in \u001b[0;36mcheck_response\u001b[0;34m(self, response)\u001b[0m\n\u001b[1;32m    240\u001b[0m                 \u001b[0malert_text\u001b[0m \u001b[0;34m=\u001b[0m \u001b[0mvalue\u001b[0m\u001b[0;34m[\u001b[0m\u001b[0;34m'alert'\u001b[0m\u001b[0;34m]\u001b[0m\u001b[0;34m.\u001b[0m\u001b[0mget\u001b[0m\u001b[0;34m(\u001b[0m\u001b[0;34m'text'\u001b[0m\u001b[0;34m)\u001b[0m\u001b[0;34m\u001b[0m\u001b[0;34m\u001b[0m\u001b[0m\n\u001b[1;32m    241\u001b[0m             \u001b[0;32mraise\u001b[0m \u001b[0mexception_class\u001b[0m\u001b[0;34m(\u001b[0m\u001b[0mmessage\u001b[0m\u001b[0;34m,\u001b[0m \u001b[0mscreen\u001b[0m\u001b[0;34m,\u001b[0m \u001b[0mstacktrace\u001b[0m\u001b[0;34m,\u001b[0m \u001b[0malert_text\u001b[0m\u001b[0;34m)\u001b[0m\u001b[0;34m\u001b[0m\u001b[0;34m\u001b[0m\u001b[0m\n\u001b[0;32m--> 242\u001b[0;31m         \u001b[0;32mraise\u001b[0m \u001b[0mexception_class\u001b[0m\u001b[0;34m(\u001b[0m\u001b[0mmessage\u001b[0m\u001b[0;34m,\u001b[0m \u001b[0mscreen\u001b[0m\u001b[0;34m,\u001b[0m \u001b[0mstacktrace\u001b[0m\u001b[0;34m)\u001b[0m\u001b[0;34m\u001b[0m\u001b[0;34m\u001b[0m\u001b[0m\n\u001b[0m\u001b[1;32m    243\u001b[0m \u001b[0;34m\u001b[0m\u001b[0m\n\u001b[1;32m    244\u001b[0m     \u001b[0;32mdef\u001b[0m \u001b[0m_value_or_default\u001b[0m\u001b[0;34m(\u001b[0m\u001b[0mself\u001b[0m\u001b[0;34m,\u001b[0m \u001b[0mobj\u001b[0m\u001b[0;34m,\u001b[0m \u001b[0mkey\u001b[0m\u001b[0;34m,\u001b[0m \u001b[0mdefault\u001b[0m\u001b[0;34m)\u001b[0m\u001b[0;34m:\u001b[0m\u001b[0;34m\u001b[0m\u001b[0;34m\u001b[0m\u001b[0m\n",
      "\u001b[0;31mWebDriverException\u001b[0m: Message: unknown error: net::ERR_INTERNET_DISCONNECTED\n  (Session info: chrome=90.0.4430.212)\n"
     ]
    }
   ],
   "source": [
    "vuelazos(\"Madrid\",\"Barcelona\",\"2021-5-20\",\"2021-5-25\")"
   ]
  },
  {
   "cell_type": "code",
   "execution_count": null,
   "metadata": {},
   "outputs": [],
   "source": []
  }
 ],
 "metadata": {
  "kernelspec": {
   "display_name": "Python 3",
   "language": "python",
   "name": "python3"
  },
  "language_info": {
   "codemirror_mode": {
    "name": "ipython",
    "version": 3
   },
   "file_extension": ".py",
   "mimetype": "text/x-python",
   "name": "python",
   "nbconvert_exporter": "python",
   "pygments_lexer": "ipython3",
   "version": "3.8.5"
  }
 },
 "nbformat": 4,
 "nbformat_minor": 4
}
