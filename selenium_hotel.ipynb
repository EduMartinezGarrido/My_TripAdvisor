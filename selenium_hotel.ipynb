{
 "cells": [
  {
   "cell_type": "code",
   "execution_count": 1,
   "metadata": {},
   "outputs": [],
   "source": [
    "from selenium import webdriver\n",
    "from selenium.webdriver.support.ui import WebDriverWait \n",
    "from selenium.webdriver.support import expected_conditions as EC\n",
    "from selenium.webdriver.common.by import By\n",
    "from selenium.webdriver.chrome.options import Options\n",
    "import requests\n",
    "import re\n",
    "import pandas as pd\n",
    "import numpy as np\n",
    "from datetime import date, timedelta, datetime\n",
    "from geopy.geocoders import Nominatim\n",
    "import time"
   ]
  },
  {
   "cell_type": "code",
   "execution_count": 2,
   "metadata": {},
   "outputs": [],
   "source": [
    "opciones=Options()\n",
    "\n",
    "opciones.add_experimental_option('excludeSwitches', ['enable-automation'])\n",
    "opciones.add_experimental_option('useAutomationExtension', False)\n",
    "\n",
    "opciones.headless=False    # si True, no aperece la ventana (headless=no visible)\n",
    "\n",
    "opciones.add_argument('--start-maximized')         # comienza maximizado\n",
    "\n",
    "#opciones.add_argument('--incognito')              # incognito\n",
    "\n",
    "PATH= './chromedriver'\n",
    "driver = webdriver.Chrome(PATH, options=opciones)"
   ]
  },
  {
   "cell_type": "code",
   "execution_count": 3,
   "metadata": {},
   "outputs": [],
   "source": [
    "driver.get('https://www.atrapalo.com/hoteles')"
   ]
  },
  {
   "cell_type": "code",
   "execution_count": 4,
   "metadata": {},
   "outputs": [],
   "source": [
    "driver.find_element_by_class_name(\"default-input.tt-input\").click()\n"
   ]
  },
  {
   "cell_type": "code",
   "execution_count": 5,
   "metadata": {},
   "outputs": [],
   "source": [
    "driver.find_element_by_class_name(\"default-input.tt-input\").send_keys(\"paris\")"
   ]
  },
  {
   "cell_type": "code",
   "execution_count": 6,
   "metadata": {
    "scrolled": true
   },
   "outputs": [],
   "source": [
    "driver.find_element_by_class_name(\"boton-buscar.form-submit.columns.large-1.large-uncentered.show-for-large\").click()"
   ]
  },
  {
   "cell_type": "code",
   "execution_count": 7,
   "metadata": {
    "scrolled": true
   },
   "outputs": [],
   "source": [
    "time.sleep(10)\n",
    "#driver.find_element_by_xpath('//*[@id=\"sortingContainer\"]/nav/div[2]/ul/li[2]').click()"
   ]
  },
  {
   "cell_type": "code",
   "execution_count": 8,
   "metadata": {},
   "outputs": [],
   "source": [
    "texto_columnas = driver.find_element_by_class_name('hotels-list.box-resultados')"
   ]
  },
  {
   "cell_type": "markdown",
   "metadata": {},
   "source": [
    "## Sacar Hoteles"
   ]
  },
  {
   "cell_type": "code",
   "execution_count": 9,
   "metadata": {},
   "outputs": [],
   "source": [
    "nombre = []\n",
    "while len(nombre) == 0:\n",
    "    time.sleep(5)\n",
    "    texto_hoteles = driver.find_elements_by_class_name('openFontSemiBold')\n",
    "    time.sleep(5)\n",
    "    texto_hoteles = texto_hoteles[:4]\n",
    "    \n",
    "    for i in texto_hoteles:\n",
    "            nombre.append(i.text)\n",
    "    break"
   ]
  },
  {
   "cell_type": "markdown",
   "metadata": {},
   "source": [
    "## Sacar Precio"
   ]
  },
  {
   "cell_type": "code",
   "execution_count": 10,
   "metadata": {},
   "outputs": [],
   "source": [
    "time.sleep(6)\n",
    "texto_precio = texto_columnas.find_elements_by_class_name('value')\n",
    "texto_precio = texto_precio[0:4]"
   ]
  },
  {
   "cell_type": "code",
   "execution_count": 11,
   "metadata": {},
   "outputs": [],
   "source": [
    "precio = []\n",
    "for i in texto_precio:\n",
    "    precio.append(i.text)"
   ]
  },
  {
   "cell_type": "markdown",
   "metadata": {},
   "source": [
    "## Sacar dirección"
   ]
  },
  {
   "cell_type": "code",
   "execution_count": 12,
   "metadata": {},
   "outputs": [],
   "source": [
    "hotel = driver.find_elements_by_class_name('product-name')"
   ]
  },
  {
   "cell_type": "code",
   "execution_count": 13,
   "metadata": {},
   "outputs": [],
   "source": [
    "direcc = []\n",
    "for i in hotel:\n",
    "    primero = i.get_attribute(\"href\")\n",
    "    direcc.append(primero)"
   ]
  },
  {
   "cell_type": "code",
   "execution_count": 14,
   "metadata": {},
   "outputs": [],
   "source": [
    "direcc = direcc[0:4]"
   ]
  },
  {
   "cell_type": "code",
   "execution_count": 15,
   "metadata": {},
   "outputs": [],
   "source": [
    "driver.quit()"
   ]
  },
  {
   "cell_type": "code",
   "execution_count": 16,
   "metadata": {},
   "outputs": [],
   "source": [
    "time.sleep(5)\n",
    "address = []\n",
    "for link in direcc:\n",
    "    driver = webdriver.Chrome(\"./chromedriver\")\n",
    "    driver.get(link)\n",
    "    time.sleep(3)\n",
    "    calle = driver.find_element_by_css_selector(\"span.app-address\")\n",
    "    calle = calle.text\n",
    "    address.append(calle)\n",
    "    driver.quit()"
   ]
  },
  {
   "cell_type": "code",
   "execution_count": 25,
   "metadata": {},
   "outputs": [
    {
     "data": {
      "text/plain": [
       "['61 Quai de Grenelle, Paris 75015, Paris Ile de France (Francia) ',\n",
       " '4 Rue Des Innocents, Paris 75001, Paris Ile de France (Francia) ',\n",
       " '10 rue du Conservatoire, Paris 75009, Paris Ile de France (Francia) ',\n",
       " '21 Rue De Chabrol, Paris 75010, Paris Ile de France (Francia) ']"
      ]
     },
     "execution_count": 25,
     "metadata": {},
     "output_type": "execute_result"
    }
   ],
   "source": [
    "address"
   ]
  },
  {
   "cell_type": "code",
   "execution_count": 29,
   "metadata": {
    "scrolled": true
   },
   "outputs": [],
   "source": [
    "latitud = []\n",
    "longitud = []\n",
    "for i in address:\n",
    "    geolocator = Nominatim(user_agent=\"edu\", timeout=5)\n",
    "    location = geolocator.geocode(i)\n",
    "    lat = location.latitude\n",
    "    lon = location.longitude\n",
    "    latitud.append(lat)\n",
    "    longitud.append(lon)"
   ]
  },
  {
   "cell_type": "code",
   "execution_count": 30,
   "metadata": {},
   "outputs": [
    {
     "data": {
      "text/html": [
       "<div>\n",
       "<style scoped>\n",
       "    .dataframe tbody tr th:only-of-type {\n",
       "        vertical-align: middle;\n",
       "    }\n",
       "\n",
       "    .dataframe tbody tr th {\n",
       "        vertical-align: top;\n",
       "    }\n",
       "\n",
       "    .dataframe thead th {\n",
       "        text-align: right;\n",
       "    }\n",
       "</style>\n",
       "<table border=\"1\" class=\"dataframe\">\n",
       "  <thead>\n",
       "    <tr style=\"text-align: right;\">\n",
       "      <th></th>\n",
       "      <th>Nombre</th>\n",
       "      <th>Precio</th>\n",
       "      <th>Direccion</th>\n",
       "      <th>Latitud</th>\n",
       "      <th>Longitud</th>\n",
       "    </tr>\n",
       "  </thead>\n",
       "  <tbody>\n",
       "    <tr>\n",
       "      <th>0</th>\n",
       "      <td>Hotel Novotel Paris Tour Eiffel</td>\n",
       "      <td>199€</td>\n",
       "      <td>61 Quai de Grenelle, Paris 75015, Paris Ile de...</td>\n",
       "      <td>48.849660</td>\n",
       "      <td>2.283704</td>\n",
       "    </tr>\n",
       "    <tr>\n",
       "      <th>1</th>\n",
       "      <td>Aparthotel Citadines Les Halles</td>\n",
       "      <td>99€</td>\n",
       "      <td>4 Rue Des Innocents, Paris 75001, Paris Ile de...</td>\n",
       "      <td>48.860496</td>\n",
       "      <td>2.347384</td>\n",
       "    </tr>\n",
       "    <tr>\n",
       "      <th>2</th>\n",
       "      <td>Hotel Peyris Opera</td>\n",
       "      <td>71€</td>\n",
       "      <td>10 rue du Conservatoire, Paris 75009, Paris Il...</td>\n",
       "      <td>48.873907</td>\n",
       "      <td>2.347058</td>\n",
       "    </tr>\n",
       "    <tr>\n",
       "      <th>3</th>\n",
       "      <td>Hotel The Originals City, Hôtel Parisiana, Par...</td>\n",
       "      <td>66€</td>\n",
       "      <td>21 Rue De Chabrol, Paris 75010, Paris Ile de F...</td>\n",
       "      <td>48.876662</td>\n",
       "      <td>2.354194</td>\n",
       "    </tr>\n",
       "  </tbody>\n",
       "</table>\n",
       "</div>"
      ],
      "text/plain": [
       "                                              Nombre Precio  \\\n",
       "0                    Hotel Novotel Paris Tour Eiffel   199€   \n",
       "1                    Aparthotel Citadines Les Halles    99€   \n",
       "2                                 Hotel Peyris Opera    71€   \n",
       "3  Hotel The Originals City, Hôtel Parisiana, Par...    66€   \n",
       "\n",
       "                                           Direccion    Latitud  Longitud  \n",
       "0  61 Quai de Grenelle, Paris 75015, Paris Ile de...  48.849660  2.283704  \n",
       "1  4 Rue Des Innocents, Paris 75001, Paris Ile de...  48.860496  2.347384  \n",
       "2  10 rue du Conservatoire, Paris 75009, Paris Il...  48.873907  2.347058  \n",
       "3  21 Rue De Chabrol, Paris 75010, Paris Ile de F...  48.876662  2.354194  "
      ]
     },
     "execution_count": 30,
     "metadata": {},
     "output_type": "execute_result"
    }
   ],
   "source": [
    "df = pd.DataFrame(list(zip(nombre,precio,address,latitud,longitud)), columns = ['Nombre','Precio','Direccion','Latitud','Longitud'])\n",
    "df"
   ]
  },
  {
   "cell_type": "code",
   "execution_count": 26,
   "metadata": {},
   "outputs": [],
   "source": [
    "geolocator = Nominatim(user_agent=\"edu\", timeout=5)\n",
    "location = geolocator.geocode(\"61 Quai de Grenelle, Paris 75015, Paris Ile de France (Francia)\")\n",
    "lat = location.latitude\n",
    "lon = location.longitude\n"
   ]
  },
  {
   "cell_type": "code",
   "execution_count": 27,
   "metadata": {},
   "outputs": [
    {
     "data": {
      "text/plain": [
       "48.8496595"
      ]
     },
     "execution_count": 27,
     "metadata": {},
     "output_type": "execute_result"
    }
   ],
   "source": [
    "lat"
   ]
  },
  {
   "cell_type": "code",
   "execution_count": 28,
   "metadata": {},
   "outputs": [
    {
     "data": {
      "text/plain": [
       "2.2837038915934476"
      ]
     },
     "execution_count": 28,
     "metadata": {},
     "output_type": "execute_result"
    }
   ],
   "source": [
    "lon"
   ]
  },
  {
   "cell_type": "code",
   "execution_count": null,
   "metadata": {},
   "outputs": [],
   "source": []
  }
 ],
 "metadata": {
  "kernelspec": {
   "display_name": "Python 3",
   "language": "python",
   "name": "python3"
  },
  "language_info": {
   "codemirror_mode": {
    "name": "ipython",
    "version": 3
   },
   "file_extension": ".py",
   "mimetype": "text/x-python",
   "name": "python",
   "nbconvert_exporter": "python",
   "pygments_lexer": "ipython3",
   "version": "3.8.5"
  }
 },
 "nbformat": 4,
 "nbformat_minor": 4
}
