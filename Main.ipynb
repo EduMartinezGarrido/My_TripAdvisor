{
 "cells": [
  {
   "cell_type": "code",
   "execution_count": 18,
   "metadata": {},
   "outputs": [],
   "source": [
    "import requests\n",
    "import requests \n",
    "import json\n",
    "import os\n",
    "from dotenv import load_dotenv\n",
    "import pandas as pd\n",
    "from pandas import json_normalize\n",
    "import time\n",
    "import os\n",
    "from dotenv import load_dotenv\n",
    "import json\n",
    "import requests\n",
    "import re\n",
    "load_dotenv()\n",
    "from pandas import json_normalize\n",
    "import pandas as pd\n",
    "import matplotlib.pyplot as plot\n",
    "import seaborn as sns\n",
    "from seaborn import violinplot\n",
    "import numpy as np\n",
    "import plotly.express as px"
   ]
  },
  {
   "cell_type": "code",
   "execution_count": 65,
   "metadata": {},
   "outputs": [],
   "source": [
    "cities = [\"Asturias\",\"Badajoz\",\"Barcelona\",\"Bilbao\",\"Burgos\",\"Ceuta\",\"Córdoba\",\"El Hierro\",\n",
    "\"Fuerteventura\",\"Girona\",\"Gran Canaria\",\"Granada\",\"Huesca\",\"Ibiza\",\"Jerez\",\"La Gomera\",\"La Palma\",\"Lanzarote\",\n",
    "\"León\",\"Logroño-Agoncillo\",\"Madrid\",\"Málaga\",\"Melilla\",\"Menorca\",\"Murcia\",\"Palma de Mallorca\",\"Pamplona\",\n",
    "\"Reus\",\"Sabadell\",\"Salamanca\",\"San Sebastián\",\"Santander\",\"Santiago\",\"Sevilla\",\"Son Bonet\",\"Tenerife\",\"Valencia\",\n",
    "\"Valladolid\",\"Vigo\",\"Vitoria\",\"Zaragoza\"]"
   ]
  },
  {
   "cell_type": "code",
   "execution_count": 84,
   "metadata": {
    "scrolled": true
   },
   "outputs": [
    {
     "data": {
      "text/plain": [
       "{'Places': [{'PlaceId': 'MAD-sky',\n",
       "   'PlaceName': 'Madrid',\n",
       "   'CountryId': 'ES-sky',\n",
       "   'RegionId': '',\n",
       "   'CityId': 'MADR-sky',\n",
       "   'CountryName': 'España'}]}"
      ]
     },
     "execution_count": 84,
     "metadata": {},
     "output_type": "execute_result"
    }
   ],
   "source": [
    "for i in cities:\n",
    "    url = \"https://skyscanner-skyscanner-flight-search-v1.p.rapidapi.com/apiservices/autosuggest/v1.0/ES/EUR/es-ES/\"\n",
    "\n",
    "    querystring = {\"query\":\"madrid\"}\n",
    "\n",
    "    headers = {\n",
    "        'x-rapidapi-key': \"c5803f22cdmsh54915af99b5f2f1p13e384jsnedae4abd1de2\",\n",
    "        'x-rapidapi-host': \"skyscanner-skyscanner-flight-search-v1.p.rapidapi.com\"\n",
    "        }\n",
    "\n",
    "    response = requests.request(\"GET\", url, headers=headers, params=querystring).json()\n",
    "\n",
    "response"
   ]
  },
  {
   "cell_type": "code",
   "execution_count": 85,
   "metadata": {
    "scrolled": false
   },
   "outputs": [
    {
     "data": {
      "text/plain": [
       "dict"
      ]
     },
     "execution_count": 85,
     "metadata": {},
     "output_type": "execute_result"
    }
   ],
   "source": [
    "type(response)"
   ]
  },
  {
   "cell_type": "code",
   "execution_count": 86,
   "metadata": {},
   "outputs": [],
   "source": [
    "aeropuerto = json_normalize(response.get(\"Places\"))"
   ]
  },
  {
   "cell_type": "code",
   "execution_count": 87,
   "metadata": {},
   "outputs": [
    {
     "data": {
      "text/html": [
       "<div>\n",
       "<style scoped>\n",
       "    .dataframe tbody tr th:only-of-type {\n",
       "        vertical-align: middle;\n",
       "    }\n",
       "\n",
       "    .dataframe tbody tr th {\n",
       "        vertical-align: top;\n",
       "    }\n",
       "\n",
       "    .dataframe thead th {\n",
       "        text-align: right;\n",
       "    }\n",
       "</style>\n",
       "<table border=\"1\" class=\"dataframe\">\n",
       "  <thead>\n",
       "    <tr style=\"text-align: right;\">\n",
       "      <th></th>\n",
       "      <th>PlaceId</th>\n",
       "      <th>PlaceName</th>\n",
       "      <th>CountryId</th>\n",
       "      <th>RegionId</th>\n",
       "      <th>CityId</th>\n",
       "      <th>CountryName</th>\n",
       "    </tr>\n",
       "  </thead>\n",
       "  <tbody>\n",
       "    <tr>\n",
       "      <th>0</th>\n",
       "      <td>MAD-sky</td>\n",
       "      <td>Madrid</td>\n",
       "      <td>ES-sky</td>\n",
       "      <td></td>\n",
       "      <td>MADR-sky</td>\n",
       "      <td>España</td>\n",
       "    </tr>\n",
       "  </tbody>\n",
       "</table>\n",
       "</div>"
      ],
      "text/plain": [
       "   PlaceId PlaceName CountryId RegionId    CityId CountryName\n",
       "0  MAD-sky    Madrid    ES-sky           MADR-sky      España"
      ]
     },
     "execution_count": 87,
     "metadata": {},
     "output_type": "execute_result"
    }
   ],
   "source": [
    "aeropuerto = aeropuerto[aeropuerto[\"CountryName\"] == \"España\"]\n",
    "aeropuerto"
   ]
  },
  {
   "cell_type": "code",
   "execution_count": 91,
   "metadata": {},
   "outputs": [],
   "source": [
    "url = \"https://skyscanner-skyscanner-flight-search-v1.p.rapidapi.com/apiservices/browsedates/v1.0/ES/EUR/es-ES/MAD-sky/LOND-sky/2021-05-15\"\n",
    "\n",
    "querystring = {\"inboundpartialdate\":\"2021-05-12\"}\n",
    "\n",
    "headers = {\n",
    "    'x-rapidapi-key': \"c5803f22cdmsh54915af99b5f2f1p13e384jsnedae4abd1de2\",\n",
    "    'x-rapidapi-host': \"skyscanner-skyscanner-flight-search-v1.p.rapidapi.com\"}\n",
    "\n",
    "response = requests.request(\"GET\", url, headers=headers).json()\n"
   ]
  },
  {
   "cell_type": "code",
   "execution_count": 92,
   "metadata": {},
   "outputs": [
    {
     "data": {
      "text/plain": [
       "{'Quotes': [{'QuoteId': 1,\n",
       "   'MinPrice': 39,\n",
       "   'Direct': True,\n",
       "   'OutboundLeg': {'CarrierIds': [1816],\n",
       "    'OriginId': 67652,\n",
       "    'DestinationId': 65655,\n",
       "    'DepartureDate': '2021-05-15T00:00:00'},\n",
       "   'QuoteDateTime': '2021-05-11T13:29:00'}],\n",
       " 'Carriers': [{'CarrierId': 1816, 'Name': 'Air Europa'}],\n",
       " 'Places': [{'Name': 'Londres Gatwick',\n",
       "   'Type': 'Station',\n",
       "   'PlaceId': 65655,\n",
       "   'IataCode': 'LGW',\n",
       "   'SkyscannerCode': 'LGW',\n",
       "   'CityName': 'Londres',\n",
       "   'CityId': 'LOND',\n",
       "   'CountryName': 'Reino Unido'},\n",
       "  {'Name': 'Madrid',\n",
       "   'Type': 'Station',\n",
       "   'PlaceId': 67652,\n",
       "   'IataCode': 'MAD',\n",
       "   'SkyscannerCode': 'MAD',\n",
       "   'CityName': 'Madrid',\n",
       "   'CityId': 'MADR',\n",
       "   'CountryName': 'España'}],\n",
       " 'Currencies': [{'Code': 'EUR',\n",
       "   'Symbol': '€',\n",
       "   'ThousandsSeparator': '.',\n",
       "   'DecimalSeparator': ',',\n",
       "   'SymbolOnLeft': False,\n",
       "   'SpaceBetweenAmountAndSymbol': True,\n",
       "   'RoundingCoefficient': 0,\n",
       "   'DecimalDigits': 2}],\n",
       " 'Dates': {'OutboundDates': [{'PartialDate': '2021-05-15',\n",
       "    'Price': 39,\n",
       "    'QuoteDateTime': '2021-05-11T13:29:00',\n",
       "    'QuoteIds': [1]}]}}"
      ]
     },
     "execution_count": 92,
     "metadata": {},
     "output_type": "execute_result"
    }
   ],
   "source": [
    "response"
   ]
  },
  {
   "cell_type": "code",
   "execution_count": 93,
   "metadata": {},
   "outputs": [],
   "source": [
    "precio = json_normalize(response.get(\"Quotes\"))"
   ]
  },
  {
   "cell_type": "code",
   "execution_count": 94,
   "metadata": {},
   "outputs": [
    {
     "data": {
      "text/html": [
       "<div>\n",
       "<style scoped>\n",
       "    .dataframe tbody tr th:only-of-type {\n",
       "        vertical-align: middle;\n",
       "    }\n",
       "\n",
       "    .dataframe tbody tr th {\n",
       "        vertical-align: top;\n",
       "    }\n",
       "\n",
       "    .dataframe thead th {\n",
       "        text-align: right;\n",
       "    }\n",
       "</style>\n",
       "<table border=\"1\" class=\"dataframe\">\n",
       "  <thead>\n",
       "    <tr style=\"text-align: right;\">\n",
       "      <th></th>\n",
       "      <th>QuoteId</th>\n",
       "      <th>MinPrice</th>\n",
       "      <th>Direct</th>\n",
       "      <th>QuoteDateTime</th>\n",
       "      <th>OutboundLeg.CarrierIds</th>\n",
       "      <th>OutboundLeg.OriginId</th>\n",
       "      <th>OutboundLeg.DestinationId</th>\n",
       "      <th>OutboundLeg.DepartureDate</th>\n",
       "    </tr>\n",
       "  </thead>\n",
       "  <tbody>\n",
       "    <tr>\n",
       "      <th>0</th>\n",
       "      <td>1</td>\n",
       "      <td>39</td>\n",
       "      <td>True</td>\n",
       "      <td>2021-05-11T13:29:00</td>\n",
       "      <td>[1816]</td>\n",
       "      <td>67652</td>\n",
       "      <td>65655</td>\n",
       "      <td>2021-05-15T00:00:00</td>\n",
       "    </tr>\n",
       "  </tbody>\n",
       "</table>\n",
       "</div>"
      ],
      "text/plain": [
       "   QuoteId  MinPrice  Direct        QuoteDateTime OutboundLeg.CarrierIds  \\\n",
       "0        1        39    True  2021-05-11T13:29:00                 [1816]   \n",
       "\n",
       "   OutboundLeg.OriginId  OutboundLeg.DestinationId OutboundLeg.DepartureDate  \n",
       "0                 67652                      65655       2021-05-15T00:00:00  "
      ]
     },
     "execution_count": 94,
     "metadata": {},
     "output_type": "execute_result"
    }
   ],
   "source": [
    "precio"
   ]
  },
  {
   "cell_type": "code",
   "execution_count": 95,
   "metadata": {},
   "outputs": [],
   "source": [
    "url = \"https://skyscanner-skyscanner-flight-search-v1.p.rapidapi.com/apiservices/browseroutes/v1.0/ES/EUR/es-ES/MAD-sky/LOND-sky/2021-05-15\"\n",
    "\n",
    "querystring = {\"inboundpartialdate\":\"2021-05-12\"}\n",
    "\n",
    "headers = {\n",
    "    'x-rapidapi-key': \"c5803f22cdmsh54915af99b5f2f1p13e384jsnedae4abd1de2\",\n",
    "    'x-rapidapi-host': \"skyscanner-skyscanner-flight-search-v1.p.rapidapi.com\"}\n",
    "\n",
    "response = requests.request(\"GET\", url, headers=headers).json()"
   ]
  },
  {
   "cell_type": "code",
   "execution_count": 96,
   "metadata": {
    "scrolled": true
   },
   "outputs": [
    {
     "data": {
      "text/plain": [
       "{'Quotes': [{'QuoteId': 1,\n",
       "   'MinPrice': 39,\n",
       "   'Direct': True,\n",
       "   'OutboundLeg': {'CarrierIds': [1816],\n",
       "    'OriginId': 67652,\n",
       "    'DestinationId': 65655,\n",
       "    'DepartureDate': '2021-05-15T00:00:00'},\n",
       "   'QuoteDateTime': '2021-05-11T13:29:00'}],\n",
       " 'Carriers': [{'CarrierId': 1816, 'Name': 'Air Europa'}],\n",
       " 'Places': [{'Name': 'Londres Gatwick',\n",
       "   'Type': 'Station',\n",
       "   'PlaceId': 65655,\n",
       "   'IataCode': 'LGW',\n",
       "   'SkyscannerCode': 'LGW',\n",
       "   'CityName': 'Londres',\n",
       "   'CityId': 'LOND',\n",
       "   'CountryName': 'Reino Unido'},\n",
       "  {'Name': 'Madrid',\n",
       "   'Type': 'Station',\n",
       "   'PlaceId': 67652,\n",
       "   'IataCode': 'MAD',\n",
       "   'SkyscannerCode': 'MAD',\n",
       "   'CityName': 'Madrid',\n",
       "   'CityId': 'MADR',\n",
       "   'CountryName': 'España'}],\n",
       " 'Currencies': [{'Code': 'EUR',\n",
       "   'Symbol': '€',\n",
       "   'ThousandsSeparator': '.',\n",
       "   'DecimalSeparator': ',',\n",
       "   'SymbolOnLeft': False,\n",
       "   'SpaceBetweenAmountAndSymbol': True,\n",
       "   'RoundingCoefficient': 0,\n",
       "   'DecimalDigits': 2}],\n",
       " 'Routes': [{'Price': 39,\n",
       "   'QuoteDateTime': '2021-05-11T13:29:00',\n",
       "   'OriginId': 67652,\n",
       "   'DestinationId': 65655,\n",
       "   'QuoteIds': [1]}]}"
      ]
     },
     "execution_count": 96,
     "metadata": {},
     "output_type": "execute_result"
    }
   ],
   "source": [
    "response"
   ]
  },
  {
   "cell_type": "code",
   "execution_count": 98,
   "metadata": {},
   "outputs": [
    {
     "data": {
      "text/html": [
       "<div>\n",
       "<style scoped>\n",
       "    .dataframe tbody tr th:only-of-type {\n",
       "        vertical-align: middle;\n",
       "    }\n",
       "\n",
       "    .dataframe tbody tr th {\n",
       "        vertical-align: top;\n",
       "    }\n",
       "\n",
       "    .dataframe thead th {\n",
       "        text-align: right;\n",
       "    }\n",
       "</style>\n",
       "<table border=\"1\" class=\"dataframe\">\n",
       "  <thead>\n",
       "    <tr style=\"text-align: right;\">\n",
       "      <th></th>\n",
       "      <th>QuoteId</th>\n",
       "      <th>MinPrice</th>\n",
       "      <th>Direct</th>\n",
       "      <th>QuoteDateTime</th>\n",
       "      <th>OutboundLeg.CarrierIds</th>\n",
       "      <th>OutboundLeg.OriginId</th>\n",
       "      <th>OutboundLeg.DestinationId</th>\n",
       "      <th>OutboundLeg.DepartureDate</th>\n",
       "    </tr>\n",
       "  </thead>\n",
       "  <tbody>\n",
       "    <tr>\n",
       "      <th>0</th>\n",
       "      <td>1</td>\n",
       "      <td>39</td>\n",
       "      <td>True</td>\n",
       "      <td>2021-05-11T13:29:00</td>\n",
       "      <td>[1816]</td>\n",
       "      <td>67652</td>\n",
       "      <td>65655</td>\n",
       "      <td>2021-05-15T00:00:00</td>\n",
       "    </tr>\n",
       "  </tbody>\n",
       "</table>\n",
       "</div>"
      ],
      "text/plain": [
       "   QuoteId  MinPrice  Direct        QuoteDateTime OutboundLeg.CarrierIds  \\\n",
       "0        1        39    True  2021-05-11T13:29:00                 [1816]   \n",
       "\n",
       "   OutboundLeg.OriginId  OutboundLeg.DestinationId OutboundLeg.DepartureDate  \n",
       "0                 67652                      65655       2021-05-15T00:00:00  "
      ]
     },
     "execution_count": 98,
     "metadata": {},
     "output_type": "execute_result"
    }
   ],
   "source": [
    "precio2 = json_normalize(response.get(\"Quotes\"))\n",
    "precio2"
   ]
  },
  {
   "cell_type": "code",
   "execution_count": 101,
   "metadata": {},
   "outputs": [],
   "source": [
    "url = \"https://skyscanner-skyscanner-flight-search-v1.p.rapidapi.com/apiservices/browsequotes/v1.0/ES/EUR/es-ES/LOND-sky/MAD-sky/2021-05-15\"\n",
    "\n",
    "querystring = {\"inboundpartialdate\":\"2021-05-12\"}\n",
    "\n",
    "headers = {\n",
    "    'x-rapidapi-key': \"c5803f22cdmsh54915af99b5f2f1p13e384jsnedae4abd1de2\",\n",
    "    'x-rapidapi-host': \"skyscanner-skyscanner-flight-search-v1.p.rapidapi.com\"}\n",
    "\n",
    "response = requests.request(\"GET\", url, headers=headers).json()"
   ]
  },
  {
   "cell_type": "code",
   "execution_count": 102,
   "metadata": {},
   "outputs": [
    {
     "data": {
      "text/html": [
       "<div>\n",
       "<style scoped>\n",
       "    .dataframe tbody tr th:only-of-type {\n",
       "        vertical-align: middle;\n",
       "    }\n",
       "\n",
       "    .dataframe tbody tr th {\n",
       "        vertical-align: top;\n",
       "    }\n",
       "\n",
       "    .dataframe thead th {\n",
       "        text-align: right;\n",
       "    }\n",
       "</style>\n",
       "<table border=\"1\" class=\"dataframe\">\n",
       "  <thead>\n",
       "    <tr style=\"text-align: right;\">\n",
       "      <th></th>\n",
       "      <th>QuoteId</th>\n",
       "      <th>MinPrice</th>\n",
       "      <th>Direct</th>\n",
       "      <th>QuoteDateTime</th>\n",
       "      <th>OutboundLeg.CarrierIds</th>\n",
       "      <th>OutboundLeg.OriginId</th>\n",
       "      <th>OutboundLeg.DestinationId</th>\n",
       "      <th>OutboundLeg.DepartureDate</th>\n",
       "    </tr>\n",
       "  </thead>\n",
       "  <tbody>\n",
       "    <tr>\n",
       "      <th>0</th>\n",
       "      <td>1</td>\n",
       "      <td>45</td>\n",
       "      <td>False</td>\n",
       "      <td>2021-05-11T06:06:00</td>\n",
       "      <td>[1090]</td>\n",
       "      <td>82398</td>\n",
       "      <td>67652</td>\n",
       "      <td>2021-05-15T00:00:00</td>\n",
       "    </tr>\n",
       "    <tr>\n",
       "      <th>1</th>\n",
       "      <td>2</td>\n",
       "      <td>75</td>\n",
       "      <td>True</td>\n",
       "      <td>2021-05-11T06:06:00</td>\n",
       "      <td>[1816]</td>\n",
       "      <td>65655</td>\n",
       "      <td>67652</td>\n",
       "      <td>2021-05-15T00:00:00</td>\n",
       "    </tr>\n",
       "  </tbody>\n",
       "</table>\n",
       "</div>"
      ],
      "text/plain": [
       "   QuoteId  MinPrice  Direct        QuoteDateTime OutboundLeg.CarrierIds  \\\n",
       "0        1        45   False  2021-05-11T06:06:00                 [1090]   \n",
       "1        2        75    True  2021-05-11T06:06:00                 [1816]   \n",
       "\n",
       "   OutboundLeg.OriginId  OutboundLeg.DestinationId OutboundLeg.DepartureDate  \n",
       "0                 82398                      67652       2021-05-15T00:00:00  \n",
       "1                 65655                      67652       2021-05-15T00:00:00  "
      ]
     },
     "execution_count": 102,
     "metadata": {},
     "output_type": "execute_result"
    }
   ],
   "source": [
    "precio3 = json_normalize(response.get(\"Quotes\"))\n",
    "precio3"
   ]
  },
  {
   "cell_type": "code",
   "execution_count": null,
   "metadata": {},
   "outputs": [],
   "source": []
  }
 ],
 "metadata": {
  "kernelspec": {
   "display_name": "Python 3",
   "language": "python",
   "name": "python3"
  },
  "language_info": {
   "codemirror_mode": {
    "name": "ipython",
    "version": 3
   },
   "file_extension": ".py",
   "mimetype": "text/x-python",
   "name": "python",
   "nbconvert_exporter": "python",
   "pygments_lexer": "ipython3",
   "version": "3.8.5"
  }
 },
 "nbformat": 4,
 "nbformat_minor": 4
}
