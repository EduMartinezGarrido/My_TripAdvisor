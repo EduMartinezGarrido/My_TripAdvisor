{
 "cells": [
  {
   "cell_type": "code",
   "execution_count": 1,
   "metadata": {},
   "outputs": [],
   "source": [
    "from selenium import webdriver\n",
    "from selenium.webdriver.support.ui import WebDriverWait \n",
    "from selenium.webdriver.support import expected_conditions as EC\n",
    "from selenium.webdriver.common.by import By\n",
    "from selenium.webdriver.chrome.options import Options\n",
    "from bs4 import BeautifulSoup\n",
    "import requests\n",
    "import re\n",
    "import pandas as pd\n",
    "import numpy as np\n",
    "from datetime import date, timedelta, datetime\n",
    "import time\n",
    "from geopy.geocoders import Nominatim"
   ]
  },
  {
   "cell_type": "code",
   "execution_count": 2,
   "metadata": {},
   "outputs": [],
   "source": [
    "opciones=Options()\n",
    "\n",
    "opciones.add_experimental_option('excludeSwitches', ['enable-automation'])\n",
    "opciones.add_experimental_option('useAutomationExtension', False)\n",
    "\n",
    "opciones.headless=False    # si True, no aperece la ventana (headless=no visible)\n",
    "\n",
    "opciones.add_argument('--start-maximized')         # comienza maximizado\n",
    "\n",
    "opciones.add_argument('user-data-dir=selenium')    # mantiene las cookies\n",
    "\n",
    "#opciones.add_argument('--incognito')              # incognito\n",
    "\n",
    "#opciones.add_argument('user-data-dir=selenium')    # mantiene las cookies\n",
    "\n",
    "\n",
    "PATH= './chromedriver'\n",
    "driver = webdriver.Chrome(PATH, options=opciones)"
   ]
  },
  {
   "cell_type": "code",
   "execution_count": 3,
   "metadata": {},
   "outputs": [],
   "source": [
    "driver.get('https://www.kayak.es/hotels/Ibiza,Islas-Baleares,Espana-c8085/2021-05-16/2021-05-17/2adults?sort=rank_a')"
   ]
  },
  {
   "cell_type": "code",
   "execution_count": 4,
   "metadata": {},
   "outputs": [],
   "source": [
    "driver.find_element_by_class_name(\"lNCO-inner\").click()"
   ]
  },
  {
   "cell_type": "code",
   "execution_count": 5,
   "metadata": {},
   "outputs": [],
   "source": [
    "driver.find_element_by_class_name(\"k_my-input\").click()"
   ]
  },
  {
   "cell_type": "code",
   "execution_count": 6,
   "metadata": {},
   "outputs": [],
   "source": [
    "texto_columnas = driver.find_element_by_class_name('Ui-Hotels-Results-List-Components-RheaLiteWrapper-container')"
   ]
  },
  {
   "cell_type": "code",
   "execution_count": 7,
   "metadata": {},
   "outputs": [
    {
     "name": "stdout",
     "output_type": "stream",
     "text": [
      "https://www.kayak.es/hotels/Ibiza,Islas-Baleares,Espana-c8085/2021-05-16/2021-05-17/2adults?sort=rank_a\n"
     ]
    }
   ],
   "source": [
    "urll = driver.current_url\n",
    "print(urll)"
   ]
  },
  {
   "cell_type": "code",
   "execution_count": 8,
   "metadata": {},
   "outputs": [
    {
     "data": {
      "text/plain": [
       "str"
      ]
     },
     "execution_count": 8,
     "metadata": {},
     "output_type": "execute_result"
    }
   ],
   "source": [
    "type(urll)"
   ]
  },
  {
   "cell_type": "markdown",
   "metadata": {},
   "source": [
    "## Sacar nombre hotel"
   ]
  },
  {
   "cell_type": "code",
   "execution_count": 9,
   "metadata": {},
   "outputs": [],
   "source": [
    "texto_titulo = texto_columnas.find_elements_by_class_name('FLpo-hotel-name')"
   ]
  },
  {
   "cell_type": "code",
   "execution_count": 10,
   "metadata": {},
   "outputs": [],
   "source": [
    "titulo = []\n",
    "for i in texto_titulo:\n",
    "    titulo.append(i.text)"
   ]
  },
  {
   "cell_type": "code",
   "execution_count": 11,
   "metadata": {},
   "outputs": [
    {
     "data": {
      "text/plain": [
       "['Hotel Mim Ibiza Es Vive - Adults Only',\n",
       " 'Hotel Royal Plaza',\n",
       " 'Eurostars Ibiza',\n",
       " 'Enkala Apartamentos',\n",
       " 'B-Llobet',\n",
       " 'Hotel Torre Del Mar',\n",
       " 'Es Llaüt - Apartamentos Ti',\n",
       " 'Urban Spaces Ibiza',\n",
       " 'Sud Ibiza Suites',\n",
       " 'Apartamentos Llobet',\n",
       " 'Hotel Rural Xereca',\n",
       " 'Grand Palladium Palace Ibiza Resort & Spa',\n",
       " 'My Way Luxury Ibiza Studio - Ab Group',\n",
       " 'Hostal Molins Park',\n",
       " 'Nobu Hotel Ibiza Bay',\n",
       " 'Apartamentos Bossa Bay',\n",
       " 'Can Jaume',\n",
       " 'Can Arabi',\n",
       " 'Apartamentos Esmeralda Ibiza',\n",
       " 'THB Los Molinos Adults Only']"
      ]
     },
     "execution_count": 11,
     "metadata": {},
     "output_type": "execute_result"
    }
   ],
   "source": [
    "titulo"
   ]
  },
  {
   "cell_type": "markdown",
   "metadata": {},
   "source": [
    "## Sacar Precio"
   ]
  },
  {
   "cell_type": "code",
   "execution_count": 12,
   "metadata": {},
   "outputs": [],
   "source": [
    "texto_precio = texto_columnas.find_elements_by_class_name('zV27-price')"
   ]
  },
  {
   "cell_type": "code",
   "execution_count": 13,
   "metadata": {},
   "outputs": [],
   "source": [
    "precio = []\n",
    "for i in texto_precio:\n",
    "    precio.append(i.text)"
   ]
  },
  {
   "cell_type": "code",
   "execution_count": 14,
   "metadata": {},
   "outputs": [
    {
     "data": {
      "text/plain": [
       "['155 €',\n",
       " '102 €',\n",
       " '149 €',\n",
       " '89 €',\n",
       " '137 €',\n",
       " '184 €',\n",
       " '170 €',\n",
       " '94 €',\n",
       " '191 €',\n",
       " '100 €',\n",
       " '282 €',\n",
       " '386 €',\n",
       " '82 €',\n",
       " '76 €',\n",
       " '659 €',\n",
       " '53 €',\n",
       " '181 €',\n",
       " '249 €',\n",
       " '190 €',\n",
       " '106 €']"
      ]
     },
     "execution_count": 14,
     "metadata": {},
     "output_type": "execute_result"
    }
   ],
   "source": [
    "precio"
   ]
  },
  {
   "cell_type": "markdown",
   "metadata": {},
   "source": [
    "## Sacar Puntuación"
   ]
  },
  {
   "cell_type": "code",
   "execution_count": 15,
   "metadata": {},
   "outputs": [],
   "source": [
    "texto_puntuacion = texto_columnas.find_elements_by_class_name('FLpo-score')"
   ]
  },
  {
   "cell_type": "code",
   "execution_count": 16,
   "metadata": {},
   "outputs": [],
   "source": [
    "puntuacion = []\n",
    "for i in texto_puntuacion:\n",
    "    puntuacion.append(i.text)"
   ]
  },
  {
   "cell_type": "code",
   "execution_count": 17,
   "metadata": {},
   "outputs": [
    {
     "data": {
      "text/plain": [
       "['8,8',\n",
       " '8,3',\n",
       " '8,8',\n",
       " '8,5',\n",
       " '9,3',\n",
       " '8,8',\n",
       " '8,4',\n",
       " '8,7',\n",
       " '9,0',\n",
       " '9,2',\n",
       " '9,1',\n",
       " '8,4',\n",
       " '8,4',\n",
       " '8,2',\n",
       " '8,7',\n",
       " '8,7',\n",
       " '9,3',\n",
       " '9,4',\n",
       " '8,2',\n",
       " '8,6']"
      ]
     },
     "execution_count": 17,
     "metadata": {},
     "output_type": "execute_result"
    }
   ],
   "source": [
    "puntuacion"
   ]
  },
  {
   "cell_type": "markdown",
   "metadata": {},
   "source": [
    "## Sacar Coordenadas"
   ]
  },
  {
   "cell_type": "code",
   "execution_count": 18,
   "metadata": {},
   "outputs": [],
   "source": [
    "latitud = []\n",
    "longitud = []\n",
    "for i in titulo:\n",
    "    try:\n",
    "        geolocator = Nominatim(user_agent=\"edu\")\n",
    "        location = geolocator.geocode(i)\n",
    "        lat = location.latitude\n",
    "        lon = location.longitude\n",
    "        latitud.append(lat)\n",
    "        longitud.append(lon)\n",
    "    except:\n",
    "        latitud.append(\"No hay\")\n",
    "        longitud.append(\"No hay\")"
   ]
  },
  {
   "cell_type": "code",
   "execution_count": 19,
   "metadata": {
    "scrolled": true
   },
   "outputs": [
    {
     "data": {
      "text/plain": [
       "['No hay',\n",
       " 49.893698,\n",
       " 'No hay',\n",
       " 'No hay',\n",
       " 41.8995786,\n",
       " 36.7413845,\n",
       " 'No hay',\n",
       " 'No hay',\n",
       " 'No hay',\n",
       " 'No hay',\n",
       " 'No hay',\n",
       " 38.8773745,\n",
       " 'No hay',\n",
       " 38.091787,\n",
       " 'No hay',\n",
       " 'No hay',\n",
       " 39.6923703,\n",
       " 39.770309,\n",
       " 'No hay',\n",
       " 'No hay']"
      ]
     },
     "execution_count": 19,
     "metadata": {},
     "output_type": "execute_result"
    }
   ],
   "source": [
    "latitud"
   ]
  },
  {
   "cell_type": "code",
   "execution_count": 20,
   "metadata": {},
   "outputs": [
    {
     "data": {
      "text/plain": [
       "['No hay',\n",
       " -97.1496128,\n",
       " 'No hay',\n",
       " 'No hay',\n",
       " 1.7195266,\n",
       " -4.0946126,\n",
       " 'No hay',\n",
       " 'No hay',\n",
       " 'No hay',\n",
       " 'No hay',\n",
       " 'No hay',\n",
       " 1.4002026734547472,\n",
       " 'No hay',\n",
       " -0.9284532,\n",
       " 'No hay',\n",
       " 'No hay',\n",
       " 3.347062547076023,\n",
       " 3.0236148138829244,\n",
       " 'No hay',\n",
       " 'No hay']"
      ]
     },
     "execution_count": 20,
     "metadata": {},
     "output_type": "execute_result"
    }
   ],
   "source": [
    "longitud"
   ]
  },
  {
   "cell_type": "code",
   "execution_count": null,
   "metadata": {},
   "outputs": [],
   "source": []
  }
 ],
 "metadata": {
  "kernelspec": {
   "display_name": "Python 3",
   "language": "python",
   "name": "python3"
  },
  "language_info": {
   "codemirror_mode": {
    "name": "ipython",
    "version": 3
   },
   "file_extension": ".py",
   "mimetype": "text/x-python",
   "name": "python",
   "nbconvert_exporter": "python",
   "pygments_lexer": "ipython3",
   "version": "3.8.5"
  }
 },
 "nbformat": 4,
 "nbformat_minor": 4
}
