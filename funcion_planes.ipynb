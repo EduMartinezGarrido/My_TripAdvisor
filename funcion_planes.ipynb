{
 "cells": [
  {
   "cell_type": "code",
   "execution_count": 1,
   "metadata": {},
   "outputs": [
    {
     "ename": "AttributeError",
     "evalue": "partially initialized module 'streamlit' has no attribute 'cache' (most likely due to a circular import)",
     "output_type": "error",
     "traceback": [
      "\u001b[0;31m---------------------------------------------------------------------------\u001b[0m",
      "\u001b[0;31mAttributeError\u001b[0m                            Traceback (most recent call last)",
      "\u001b[0;32m<ipython-input-1-866a200c5d84>\u001b[0m in \u001b[0;36m<module>\u001b[0;34m\u001b[0m\n\u001b[1;32m      5\u001b[0m \u001b[0;32mimport\u001b[0m \u001b[0mpandas\u001b[0m \u001b[0;32mas\u001b[0m \u001b[0mpd\u001b[0m\u001b[0;34m\u001b[0m\u001b[0;34m\u001b[0m\u001b[0m\n\u001b[1;32m      6\u001b[0m \u001b[0mload_dotenv\u001b[0m\u001b[0;34m(\u001b[0m\u001b[0;34m)\u001b[0m\u001b[0;34m\u001b[0m\u001b[0;34m\u001b[0m\u001b[0m\n\u001b[0;32m----> 7\u001b[0;31m \u001b[0;32mimport\u001b[0m \u001b[0msrc\u001b[0m\u001b[0;34m.\u001b[0m\u001b[0mFunciones\u001b[0m \u001b[0;32mas\u001b[0m \u001b[0mfun\u001b[0m\u001b[0;34m\u001b[0m\u001b[0;34m\u001b[0m\u001b[0m\n\u001b[0m\u001b[1;32m      8\u001b[0m \u001b[0;32mfrom\u001b[0m \u001b[0mfunctools\u001b[0m \u001b[0;32mimport\u001b[0m \u001b[0mreduce\u001b[0m\u001b[0;34m\u001b[0m\u001b[0;34m\u001b[0m\u001b[0m\n\u001b[1;32m      9\u001b[0m \u001b[0;32mimport\u001b[0m \u001b[0moperator\u001b[0m\u001b[0;34m\u001b[0m\u001b[0;34m\u001b[0m\u001b[0m\n",
      "\u001b[0;32m~/Desktop/Ironhack/My_TripAdvisor/src/Funciones.py\u001b[0m in \u001b[0;36m<module>\u001b[0;34m\u001b[0m\n\u001b[1;32m      6\u001b[0m \u001b[0;32mfrom\u001b[0m \u001b[0mfunctools\u001b[0m \u001b[0;32mimport\u001b[0m \u001b[0mreduce\u001b[0m\u001b[0;34m\u001b[0m\u001b[0;34m\u001b[0m\u001b[0m\n\u001b[1;32m      7\u001b[0m \u001b[0;32mimport\u001b[0m \u001b[0moperator\u001b[0m\u001b[0;34m\u001b[0m\u001b[0;34m\u001b[0m\u001b[0m\n\u001b[0;32m----> 8\u001b[0;31m \u001b[0;32mimport\u001b[0m \u001b[0mstreamlit\u001b[0m \u001b[0;32mas\u001b[0m \u001b[0mst\u001b[0m\u001b[0;34m\u001b[0m\u001b[0;34m\u001b[0m\u001b[0m\n\u001b[0m\u001b[1;32m      9\u001b[0m \u001b[0;34m\u001b[0m\u001b[0m\n\u001b[1;32m     10\u001b[0m \u001b[0;32mdef\u001b[0m \u001b[0mget_data\u001b[0m \u001b[0;34m(\u001b[0m\u001b[0mlatitude\u001b[0m\u001b[0;34m,\u001b[0m \u001b[0mlongitude\u001b[0m\u001b[0;34m,\u001b[0m \u001b[0murl_query\u001b[0m\u001b[0;34m,\u001b[0m \u001b[0;34m*\u001b[0m\u001b[0margs\u001b[0m\u001b[0;34m)\u001b[0m\u001b[0;34m:\u001b[0m\u001b[0;34m\u001b[0m\u001b[0;34m\u001b[0m\u001b[0m\n",
      "\u001b[0;32m~/Desktop/Ironhack/My_TripAdvisor/streamlit.py\u001b[0m in \u001b[0;36m<module>\u001b[0;34m\u001b[0m\n\u001b[1;32m      2\u001b[0m \u001b[0;32mimport\u001b[0m \u001b[0mstreamlit\u001b[0m \u001b[0;32mas\u001b[0m \u001b[0mst\u001b[0m\u001b[0;34m\u001b[0m\u001b[0;34m\u001b[0m\u001b[0m\n\u001b[1;32m      3\u001b[0m \u001b[0;32mfrom\u001b[0m \u001b[0mPIL\u001b[0m \u001b[0;32mimport\u001b[0m \u001b[0mImage\u001b[0m\u001b[0;34m\u001b[0m\u001b[0;34m\u001b[0m\u001b[0m\n\u001b[0;32m----> 4\u001b[0;31m \u001b[0;32mimport\u001b[0m \u001b[0msrc\u001b[0m\u001b[0;34m.\u001b[0m\u001b[0mmanage_data\u001b[0m \u001b[0;32mas\u001b[0m \u001b[0mdat\u001b[0m\u001b[0;34m\u001b[0m\u001b[0;34m\u001b[0m\u001b[0m\n\u001b[0m\u001b[1;32m      5\u001b[0m \u001b[0;32mimport\u001b[0m \u001b[0mplotly\u001b[0m\u001b[0;34m.\u001b[0m\u001b[0mexpress\u001b[0m \u001b[0;32mas\u001b[0m \u001b[0mpx\u001b[0m\u001b[0;34m\u001b[0m\u001b[0;34m\u001b[0m\u001b[0m\n\u001b[1;32m      6\u001b[0m \u001b[0;32mimport\u001b[0m \u001b[0mpandas\u001b[0m \u001b[0;32mas\u001b[0m \u001b[0mpd\u001b[0m\u001b[0;34m\u001b[0m\u001b[0;34m\u001b[0m\u001b[0m\n",
      "\u001b[0;32m~/Desktop/Ironhack/My_TripAdvisor/src/manage_data.py\u001b[0m in \u001b[0;36m<module>\u001b[0;34m\u001b[0m\n\u001b[1;32m     22\u001b[0m \u001b[0;32mimport\u001b[0m \u001b[0mfolium\u001b[0m\u001b[0;34m\u001b[0m\u001b[0;34m\u001b[0m\u001b[0m\n\u001b[1;32m     23\u001b[0m \u001b[0;32mfrom\u001b[0m \u001b[0mfolium\u001b[0m \u001b[0;32mimport\u001b[0m \u001b[0mChoropleth\u001b[0m\u001b[0;34m,\u001b[0m \u001b[0mCircle\u001b[0m\u001b[0;34m,\u001b[0m \u001b[0mMarker\u001b[0m\u001b[0;34m,\u001b[0m \u001b[0mIcon\u001b[0m\u001b[0;34m,\u001b[0m \u001b[0mMap\u001b[0m\u001b[0;34m\u001b[0m\u001b[0;34m\u001b[0m\u001b[0m\n\u001b[0;32m---> 24\u001b[0;31m \u001b[0;34m@\u001b[0m\u001b[0mst\u001b[0m\u001b[0;34m.\u001b[0m\u001b[0mcache\u001b[0m\u001b[0;34m\u001b[0m\u001b[0;34m\u001b[0m\u001b[0m\n\u001b[0m\u001b[1;32m     25\u001b[0m \u001b[0;32mdef\u001b[0m \u001b[0mtiempazo\u001b[0m\u001b[0;34m(\u001b[0m\u001b[0mciudad\u001b[0m\u001b[0;34m)\u001b[0m\u001b[0;34m:\u001b[0m\u001b[0;34m\u001b[0m\u001b[0;34m\u001b[0m\u001b[0m\n\u001b[1;32m     26\u001b[0m \u001b[0;34m\u001b[0m\u001b[0m\n",
      "\u001b[0;31mAttributeError\u001b[0m: partially initialized module 'streamlit' has no attribute 'cache' (most likely due to a circular import)"
     ]
    }
   ],
   "source": [
    "import requests\n",
    "import json\n",
    "from dotenv import load_dotenv\n",
    "import os\n",
    "import pandas as pd\n",
    "load_dotenv()\n",
    "import src.Funciones as fun\n",
    "from functools import reduce\n",
    "import operator\n",
    "from pandas import json_normalize\n",
    "import numpy as np\n",
    "from geopy.geocoders import Nominatim\n",
    "import folium\n",
    "from folium import Choropleth, Circle, Marker, Icon, Map\n",
    "\n",
    "def planazos(ciudad_destino):\n",
    "    geolocator = Nominatim(user_agent=\"edu\")\n",
    "    location = geolocator.geocode(ciudad_destino)\n",
    "    lat = location.latitude\n",
    "    lon = location.longitude\n",
    "\n",
    "    url_query = 'https://api.foursquare.com/v2/venues/explore'\n",
    "\n",
    "    queries_HS = [\"Historic Site\"]\n",
    "    queries_museum = [\"Museum\"]\n",
    "    queries_bar = [\"Nightclub\"]\n",
    "    queries_food = [\"Food\"]\n",
    "    queries_hotel = [\"Hotel\"]\n",
    "\n",
    "    tok1= os.getenv(\"Client_Id\")\n",
    "    tok2= os.getenv(\"Client_Secret\")\n",
    "\n",
    "    HS = fun.get_data(lat, lon,url_query,*queries_HS)\n",
    "    museum = fun.get_data(lat, lon,url_query,*queries_museum)\n",
    "    nightclub = fun.get_data(lat, lon,url_query,*queries_bar)\n",
    "    food = fun.get_data(lat, lon,url_query,*queries_food)\n",
    "    hoteles = fun.get_data(lat, lon,url_query,*queries_hotel)\n",
    "\n",
    "    HS = HS.get(\"Historic Site\").get(\"response\").get(\"groups\")[0].get(\"items\")\n",
    "    museum = museum.get(\"Museum\").get(\"response\").get(\"groups\")[0].get(\"items\")\n",
    "    nightclub = nightclub.get(\"Nightclub\").get(\"response\").get(\"groups\")[0].get(\"items\")\n",
    "    food = food.get(\"Food\").get(\"response\").get(\"groups\")[0].get(\"items\")\n",
    "    hoteles = hoteles.get(\"Hotel\").get(\"response\").get(\"groups\")[0].get(\"items\")\n",
    "\n",
    "    df_HS = fun.crear_dataframe(HS)\n",
    "    df_museum = fun.crear_dataframe(museum)\n",
    "    df_nightclub = fun.crear_dataframe(nightclub)\n",
    "    df_food = fun.crear_dataframe(food)\n",
    "    df_hoteles = fun.crear_dataframe(hoteles)\n",
    "\n",
    "    df_HS = df_HS[:10]\n",
    "    df_HS = (df_HS.assign(categoria = \"historic site\"))\n",
    "\n",
    "    df_hoteles = df_hoteles[:10]\n",
    "    df_hoteles = (df_hoteles.assign(categoria = \"hotels\"))\n",
    "\n",
    "    df_food = df_food[:10]\n",
    "    df_food = (df_food.assign(categoria = \"food\"))\n",
    "\n",
    "    df_museum = df_museum[:10]\n",
    "    df_museum = (df_museum.assign(categoria = \"museum\"))\n",
    "\n",
    "    df_nightclub = df_nightclub[:10]\n",
    "    df_nightclub = (df_nightclub.assign(categoria = \"nightclub\"))\n",
    "\n",
    "    df = pd.concat([df_food,df_hoteles,df_HS,df_museum,df_nightclub],ignore_index=True)\n",
    "\n",
    "    direcc = []\n",
    "    for i, row in df.iterrows():\n",
    "        lat = row[\"latitud\"]\n",
    "        lon = row[\"longitud\"]\n",
    "        location = geolocator.reverse(f'{lat}'\",\" f'{lon}')\n",
    "        calle = location.address\n",
    "        direcc.append(calle)\n",
    "\n",
    "    df[\"Address\"] = direcc\n",
    "    return df"
   ]
  },
  {
   "cell_type": "code",
   "execution_count": 2,
   "metadata": {},
   "outputs": [
    {
     "ename": "NameError",
     "evalue": "name 'planazos' is not defined",
     "output_type": "error",
     "traceback": [
      "\u001b[0;31m---------------------------------------------------------------------------\u001b[0m",
      "\u001b[0;31mNameError\u001b[0m                                 Traceback (most recent call last)",
      "\u001b[0;32m<ipython-input-2-153d3b764c52>\u001b[0m in \u001b[0;36m<module>\u001b[0;34m\u001b[0m\n\u001b[0;32m----> 1\u001b[0;31m \u001b[0mplanazos\u001b[0m\u001b[0;34m(\u001b[0m\u001b[0;34m\"madrid\"\u001b[0m\u001b[0;34m)\u001b[0m\u001b[0;34m\u001b[0m\u001b[0;34m\u001b[0m\u001b[0m\n\u001b[0m",
      "\u001b[0;31mNameError\u001b[0m: name 'planazos' is not defined"
     ]
    }
   ],
   "source": [
    "planazos(\"madrid\")"
   ]
  },
  {
   "cell_type": "code",
   "execution_count": null,
   "metadata": {},
   "outputs": [],
   "source": []
  }
 ],
 "metadata": {
  "kernelspec": {
   "display_name": "Python 3",
   "language": "python",
   "name": "python3"
  },
  "language_info": {
   "codemirror_mode": {
    "name": "ipython",
    "version": 3
   },
   "file_extension": ".py",
   "mimetype": "text/x-python",
   "name": "python",
   "nbconvert_exporter": "python",
   "pygments_lexer": "ipython3",
   "version": "3.8.5"
  }
 },
 "nbformat": 4,
 "nbformat_minor": 4
}
