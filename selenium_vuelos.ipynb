{
 "cells": [
  {
   "cell_type": "code",
   "execution_count": 1,
   "metadata": {},
   "outputs": [],
   "source": [
    "from selenium import webdriver\n",
    "from selenium.webdriver.support.ui import WebDriverWait \n",
    "from selenium.webdriver.support import expected_conditions as EC\n",
    "from selenium.webdriver.common.by import By\n",
    "from bs4 import BeautifulSoup\n",
    "import requests\n",
    "import re\n",
    "import pandas as pd\n",
    "import numpy as np\n",
    "import time\n"
   ]
  },
  {
   "cell_type": "code",
   "execution_count": 2,
   "metadata": {},
   "outputs": [],
   "source": [
    "options =  webdriver.ChromeOptions()\n",
    "options.add_argument('--start-maximized')\n",
    "options.add_argument('--disable-extensions')\n",
    "\n",
    "driver = webdriver.Chrome(\"./chromedriver\")"
   ]
  },
  {
   "cell_type": "code",
   "execution_count": 3,
   "metadata": {},
   "outputs": [],
   "source": [
    "driver.get('https://www.vuelosbaratos.es/Buscar/MAD-BCN/2021-5-18/2021-5-25/ES/')\n",
    "time.sleep(3)"
   ]
  },
  {
   "cell_type": "code",
   "execution_count": 4,
   "metadata": {
    "scrolled": true
   },
   "outputs": [
    {
     "data": {
      "text/plain": [
       "\"WebDriverWait(driver, 5)    .until(EC.element_to_be_clickable((By.CSS_SELECTOR,\\n                                      'button.Button-No-Standard-Style.close.inside.darkIcon ')))    .click()\""
      ]
     },
     "execution_count": 4,
     "metadata": {},
     "output_type": "execute_result"
    }
   ],
   "source": [
    "'''WebDriverWait(driver, 5)\\\n",
    "    .until(EC.element_to_be_clickable((By.CSS_SELECTOR,\n",
    "                                      'button.Button-No-Standard-Style.close.inside.darkIcon ')))\\\n",
    "    .click()'''"
   ]
  },
  {
   "cell_type": "markdown",
   "metadata": {},
   "source": [
    "## Precio Vuelos"
   ]
  },
  {
   "cell_type": "code",
   "execution_count": 5,
   "metadata": {},
   "outputs": [],
   "source": [
    "precio = driver.find_elements_by_class_name(\"ResultPrice\")"
   ]
  },
  {
   "cell_type": "code",
   "execution_count": 6,
   "metadata": {},
   "outputs": [],
   "source": [
    "precios = []\n",
    "for i in precio[::2]:\n",
    "    precios.append(i.text)"
   ]
  },
  {
   "cell_type": "code",
   "execution_count": 7,
   "metadata": {
    "scrolled": true
   },
   "outputs": [
    {
     "data": {
      "text/plain": [
       "['83 €', '83 €', '84 €']"
      ]
     },
     "execution_count": 7,
     "metadata": {},
     "output_type": "execute_result"
    }
   ],
   "source": [
    "precios[:3]"
   ]
  },
  {
   "cell_type": "markdown",
   "metadata": {},
   "source": [
    "## Salida Vuelos"
   ]
  },
  {
   "cell_type": "code",
   "execution_count": 8,
   "metadata": {},
   "outputs": [],
   "source": [
    "fecha = driver.find_elements_by_class_name(\"groupDetailsCell\")"
   ]
  },
  {
   "cell_type": "code",
   "execution_count": 9,
   "metadata": {},
   "outputs": [],
   "source": [
    "fechass = []\n",
    "for i in fecha:\n",
    "    fechass.append(i.text)"
   ]
  },
  {
   "cell_type": "code",
   "execution_count": 10,
   "metadata": {
    "scrolled": true
   },
   "outputs": [],
   "source": [
    "fechas = []\n",
    "for i in fechass:\n",
    "    i = i[-5:]\n",
    "    fechas.append(i)"
   ]
  },
  {
   "cell_type": "code",
   "execution_count": 12,
   "metadata": {},
   "outputs": [],
   "source": [
    "salida = []\n",
    "for i in fechas[::2]:\n",
    "    salida.append(i)   "
   ]
  },
  {
   "cell_type": "code",
   "execution_count": 13,
   "metadata": {},
   "outputs": [],
   "source": [
    "salida_ida = []\n",
    "for i in salida[::2]:\n",
    "    i = i.replace(\"\\n\",\" \")\n",
    "    salida_ida.append(i)"
   ]
  },
  {
   "cell_type": "code",
   "execution_count": 21,
   "metadata": {},
   "outputs": [],
   "source": [
    "prueba = salida_ida[-1]"
   ]
  },
  {
   "cell_type": "code",
   "execution_count": 15,
   "metadata": {},
   "outputs": [],
   "source": [
    "salida_vuelta = []\n",
    "for i in salida[1::2]:\n",
    "    i = i.replace(\"\\n\",\" \")\n",
    "    salida_vuelta.append(i)"
   ]
  },
  {
   "cell_type": "code",
   "execution_count": 16,
   "metadata": {},
   "outputs": [],
   "source": [
    "llegada = []\n",
    "for i in fechas[1::2]:\n",
    "    llegada.append(i)"
   ]
  },
  {
   "cell_type": "code",
   "execution_count": 17,
   "metadata": {},
   "outputs": [],
   "source": [
    "llegada_ida = []\n",
    "for i in llegada[::2]:\n",
    "    i = i.replace(\"\\n\",\" \")\n",
    "    llegada_ida.append(i)"
   ]
  },
  {
   "cell_type": "code",
   "execution_count": 18,
   "metadata": {},
   "outputs": [],
   "source": [
    "llegada_vuelta = []\n",
    "for i in llegada[1::2]:\n",
    "    i = i.replace(\"\\n\",\" \")\n",
    "    llegada_vuelta.append(i)"
   ]
  },
  {
   "cell_type": "code",
   "execution_count": 19,
   "metadata": {},
   "outputs": [
    {
     "data": {
      "text/html": [
       "<div>\n",
       "<style scoped>\n",
       "    .dataframe tbody tr th:only-of-type {\n",
       "        vertical-align: middle;\n",
       "    }\n",
       "\n",
       "    .dataframe tbody tr th {\n",
       "        vertical-align: top;\n",
       "    }\n",
       "\n",
       "    .dataframe thead th {\n",
       "        text-align: right;\n",
       "    }\n",
       "</style>\n",
       "<table border=\"1\" class=\"dataframe\">\n",
       "  <thead>\n",
       "    <tr style=\"text-align: right;\">\n",
       "      <th></th>\n",
       "      <th>Precio</th>\n",
       "      <th>Salida_ida</th>\n",
       "      <th>Llegada_ida</th>\n",
       "      <th>Salida_vuelta</th>\n",
       "      <th>Llegada_vuelta</th>\n",
       "    </tr>\n",
       "  </thead>\n",
       "  <tbody>\n",
       "    <tr>\n",
       "      <th>0</th>\n",
       "      <td>83 €</td>\n",
       "      <td>07:30</td>\n",
       "      <td>08:55</td>\n",
       "      <td>18:40</td>\n",
       "      <td>20:05</td>\n",
       "    </tr>\n",
       "    <tr>\n",
       "      <th>1</th>\n",
       "      <td>83 €</td>\n",
       "      <td>07:30</td>\n",
       "      <td>08:55</td>\n",
       "      <td>18:40</td>\n",
       "      <td>20:05</td>\n",
       "    </tr>\n",
       "    <tr>\n",
       "      <th>2</th>\n",
       "      <td>84 €</td>\n",
       "      <td>07:30</td>\n",
       "      <td>08:55</td>\n",
       "      <td>20:30</td>\n",
       "      <td>22:05</td>\n",
       "    </tr>\n",
       "    <tr>\n",
       "      <th>3</th>\n",
       "      <td>90 €</td>\n",
       "      <td>07:30</td>\n",
       "      <td>08:55</td>\n",
       "      <td>11:50</td>\n",
       "      <td>13:25</td>\n",
       "    </tr>\n",
       "    <tr>\n",
       "      <th>4</th>\n",
       "      <td>90 €</td>\n",
       "      <td>19:00</td>\n",
       "      <td>07:55</td>\n",
       "      <td>20:30</td>\n",
       "      <td>22:05</td>\n",
       "    </tr>\n",
       "    <tr>\n",
       "      <th>5</th>\n",
       "      <td>92 €</td>\n",
       "      <td>07:30</td>\n",
       "      <td>08:55</td>\n",
       "      <td>11:55</td>\n",
       "      <td>18:10</td>\n",
       "    </tr>\n",
       "    <tr>\n",
       "      <th>6</th>\n",
       "      <td>93 €</td>\n",
       "      <td>10:15</td>\n",
       "      <td>07:55</td>\n",
       "      <td>20:30</td>\n",
       "      <td>22:05</td>\n",
       "    </tr>\n",
       "    <tr>\n",
       "      <th>7</th>\n",
       "      <td>93 €</td>\n",
       "      <td>11:30</td>\n",
       "      <td>12:50</td>\n",
       "      <td>10:35</td>\n",
       "      <td>12:00</td>\n",
       "    </tr>\n",
       "    <tr>\n",
       "      <th>8</th>\n",
       "      <td>95 €</td>\n",
       "      <td>07:30</td>\n",
       "      <td>08:55</td>\n",
       "      <td>10:35</td>\n",
       "      <td>12:00</td>\n",
       "    </tr>\n",
       "    <tr>\n",
       "      <th>9</th>\n",
       "      <td>96 €</td>\n",
       "      <td>10:15</td>\n",
       "      <td>07:55</td>\n",
       "      <td>18:40</td>\n",
       "      <td>20:05</td>\n",
       "    </tr>\n",
       "    <tr>\n",
       "      <th>10</th>\n",
       "      <td>97 €</td>\n",
       "      <td>19:00</td>\n",
       "      <td>07:55</td>\n",
       "      <td>11:50</td>\n",
       "      <td>13:25</td>\n",
       "    </tr>\n",
       "    <tr>\n",
       "      <th>11</th>\n",
       "      <td>98 €</td>\n",
       "      <td>15:10</td>\n",
       "      <td>16:35</td>\n",
       "      <td>20:30</td>\n",
       "      <td>22:05</td>\n",
       "    </tr>\n",
       "    <tr>\n",
       "      <th>12</th>\n",
       "      <td>99 €</td>\n",
       "      <td>15:10</td>\n",
       "      <td>16:35</td>\n",
       "      <td>18:40</td>\n",
       "      <td>20:05</td>\n",
       "    </tr>\n",
       "    <tr>\n",
       "      <th>13</th>\n",
       "      <td>99 €</td>\n",
       "      <td>11:30</td>\n",
       "      <td>12:50</td>\n",
       "      <td>18:40</td>\n",
       "      <td>20:05</td>\n",
       "    </tr>\n",
       "    <tr>\n",
       "      <th>14</th>\n",
       "      <td>99 €</td>\n",
       "      <td>11:30</td>\n",
       "      <td>12:50</td>\n",
       "      <td>20:30</td>\n",
       "      <td>22:05</td>\n",
       "    </tr>\n",
       "    <tr>\n",
       "      <th>15</th>\n",
       "      <td>101 €</td>\n",
       "      <td>10:15</td>\n",
       "      <td>07:55</td>\n",
       "      <td>11:50</td>\n",
       "      <td>13:25</td>\n",
       "    </tr>\n",
       "    <tr>\n",
       "      <th>16</th>\n",
       "      <td>101 €</td>\n",
       "      <td>11:30</td>\n",
       "      <td>12:50</td>\n",
       "      <td>11:55</td>\n",
       "      <td>18:10</td>\n",
       "    </tr>\n",
       "    <tr>\n",
       "      <th>17</th>\n",
       "      <td>101 €</td>\n",
       "      <td>07:30</td>\n",
       "      <td>08:55</td>\n",
       "      <td>11:55</td>\n",
       "      <td>13:45</td>\n",
       "    </tr>\n",
       "    <tr>\n",
       "      <th>18</th>\n",
       "      <td>105 €</td>\n",
       "      <td>11:30</td>\n",
       "      <td>12:50</td>\n",
       "      <td>11:50</td>\n",
       "      <td>13:25</td>\n",
       "    </tr>\n",
       "    <tr>\n",
       "      <th>19</th>\n",
       "      <td>105 €</td>\n",
       "      <td>10:15</td>\n",
       "      <td>07:55</td>\n",
       "      <td>10:35</td>\n",
       "      <td>12:00</td>\n",
       "    </tr>\n",
       "    <tr>\n",
       "      <th>20</th>\n",
       "      <td>107 €</td>\n",
       "      <td>11:30</td>\n",
       "      <td>12:50</td>\n",
       "      <td>09:05</td>\n",
       "      <td>10:30</td>\n",
       "    </tr>\n",
       "    <tr>\n",
       "      <th>21</th>\n",
       "      <td>107 €</td>\n",
       "      <td>11:30</td>\n",
       "      <td>12:50</td>\n",
       "      <td>16:55</td>\n",
       "      <td>18:20</td>\n",
       "    </tr>\n",
       "    <tr>\n",
       "      <th>22</th>\n",
       "      <td>107 €</td>\n",
       "      <td>11:30</td>\n",
       "      <td>12:50</td>\n",
       "      <td>13:30</td>\n",
       "      <td>14:55</td>\n",
       "    </tr>\n",
       "    <tr>\n",
       "      <th>23</th>\n",
       "      <td>107 €</td>\n",
       "      <td>11:30</td>\n",
       "      <td>12:50</td>\n",
       "      <td>07:15</td>\n",
       "      <td>08:40</td>\n",
       "    </tr>\n",
       "    <tr>\n",
       "      <th>24</th>\n",
       "      <td>107 €</td>\n",
       "      <td>11:30</td>\n",
       "      <td>12:50</td>\n",
       "      <td>09:35</td>\n",
       "      <td>11:00</td>\n",
       "    </tr>\n",
       "  </tbody>\n",
       "</table>\n",
       "</div>"
      ],
      "text/plain": [
       "   Precio Salida_ida Llegada_ida Salida_vuelta Llegada_vuelta\n",
       "0    83 €      07:30       08:55         18:40          20:05\n",
       "1    83 €      07:30       08:55         18:40          20:05\n",
       "2    84 €      07:30       08:55         20:30          22:05\n",
       "3    90 €      07:30       08:55         11:50          13:25\n",
       "4    90 €      19:00       07:55         20:30          22:05\n",
       "5    92 €      07:30       08:55         11:55          18:10\n",
       "6    93 €      10:15       07:55         20:30          22:05\n",
       "7    93 €      11:30       12:50         10:35          12:00\n",
       "8    95 €      07:30       08:55         10:35          12:00\n",
       "9    96 €      10:15       07:55         18:40          20:05\n",
       "10   97 €      19:00       07:55         11:50          13:25\n",
       "11   98 €      15:10       16:35         20:30          22:05\n",
       "12   99 €      15:10       16:35         18:40          20:05\n",
       "13   99 €      11:30       12:50         18:40          20:05\n",
       "14   99 €      11:30       12:50         20:30          22:05\n",
       "15  101 €      10:15       07:55         11:50          13:25\n",
       "16  101 €      11:30       12:50         11:55          18:10\n",
       "17  101 €      07:30       08:55         11:55          13:45\n",
       "18  105 €      11:30       12:50         11:50          13:25\n",
       "19  105 €      10:15       07:55         10:35          12:00\n",
       "20  107 €      11:30       12:50         09:05          10:30\n",
       "21  107 €      11:30       12:50         16:55          18:20\n",
       "22  107 €      11:30       12:50         13:30          14:55\n",
       "23  107 €      11:30       12:50         07:15          08:40\n",
       "24  107 €      11:30       12:50         09:35          11:00"
      ]
     },
     "execution_count": 19,
     "metadata": {},
     "output_type": "execute_result"
    }
   ],
   "source": [
    "df = pd.DataFrame(list(zip(precios,salida_ida,llegada_ida,salida_vuelta,llegada_vuelta)), columns = ['Precio','Salida_ida','Llegada_ida','Salida_vuelta','Llegada_vuelta'])\n",
    "df"
   ]
  },
  {
   "cell_type": "code",
   "execution_count": 23,
   "metadata": {},
   "outputs": [],
   "source": [
    "dicc = {\"Alicante\":\"ALC\",\"Almería\":\"LEI\",\"Badajoz\":\"BJZ\",\"Barcelona\":\"BCN\",\"Bilbao\":\"BIO\",\"Burgos\":\"RGS\",\"Castellon\":\"CDT\",\n",
    "\"Cordoba\":\"ODB\",\"San_Sebastián\":\"EAS\",\"Gerona\":\"GRO\",\"Granada\":\"GRX\",\"Fuerteventura\":\"FUE\",\"Huesca\":\"HSK\",\"Ibiza\":\"IBZ\",\"Jerez\":\"XRZ\",\n",
    "\"Lanzarote\":\"ACE\",\"Gran_Canaria\":\"LPA\",\"La_Coruña\":\"LCG\",\"La_Gomera\":\"GMZ\",\"Leon\":\"LEN\",\"Logroño\":\"RJL\",\"Albacete\":\"ABC\",\n",
    "\"Madrid\":\"MAD\",\"Malaga\":\"AGP\",\"Melilla\":\"MLN\",\"Menorca\":\"MAH\",\"Murcia\":\"MJV\",\"Asturias\":\"OVD\",\"Mallorca\":\"PMI\",\"La_Palma\":\"SPC\",\n",
    "\"Pamplona\":\"PNA\",\"Reus\":\"REU\",\"Sabadell\":\"QSA\",\"Salamanca\":\"SLM\",\"Santiago_de_Compostela\":\"SCQ\",\"Santander\":\"SDR\",\"Sevilla\":\"SVQ\",\"Tenerife_Norte\":\"TFN\",\n",
    "\"Tenerife_Sur\":\"TFS\",\"Valencia\":\"VLC\",\"Valladolid\":\"VLL\",\"El_Hierro\":\"VDE\",\"Vigo\":\"VGO\",\"Vitoria\":\"VIT\",\"Zaragoza\":\"ZAZ\"}"
   ]
  },
  {
   "cell_type": "code",
   "execution_count": 24,
   "metadata": {},
   "outputs": [
    {
     "name": "stdout",
     "output_type": "stream",
     "text": [
      "ALC\n"
     ]
    }
   ],
   "source": [
    "ciudad_ida = \"Alicante\"\n",
    "salida = dicc.get(f'{ciudad_ida}')\n",
    "print(salida)"
   ]
  },
  {
   "cell_type": "code",
   "execution_count": null,
   "metadata": {},
   "outputs": [],
   "source": []
  },
  {
   "cell_type": "code",
   "execution_count": null,
   "metadata": {},
   "outputs": [],
   "source": []
  }
 ],
 "metadata": {
  "kernelspec": {
   "display_name": "Python 3",
   "language": "python",
   "name": "python3"
  },
  "language_info": {
   "codemirror_mode": {
    "name": "ipython",
    "version": 3
   },
   "file_extension": ".py",
   "mimetype": "text/x-python",
   "name": "python",
   "nbconvert_exporter": "python",
   "pygments_lexer": "ipython3",
   "version": "3.8.5"
  }
 },
 "nbformat": 4,
 "nbformat_minor": 4
}
