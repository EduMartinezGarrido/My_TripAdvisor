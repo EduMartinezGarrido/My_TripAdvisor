{
 "cells": [
  {
   "cell_type": "code",
   "execution_count": 1,
   "metadata": {},
   "outputs": [],
   "source": [
    "from selenium import webdriver\n",
    "from selenium.webdriver.support.ui import WebDriverWait \n",
    "from selenium.webdriver.support import expected_conditions as EC\n",
    "from selenium.webdriver.common.by import By\n",
    "from bs4 import BeautifulSoup\n",
    "import requests\n",
    "import re\n",
    "import pandas as pd\n",
    "import numpy as np\n",
    "from datetime import date, timedelta, datetime\n",
    "import time\n"
   ]
  },
  {
   "cell_type": "code",
   "execution_count": 2,
   "metadata": {},
   "outputs": [],
   "source": [
    "options =  webdriver.ChromeOptions()\n",
    "options.add_argument('--start-maximized')\n",
    "options.add_argument('--disable-extensions')\n",
    "\n",
    "driver = webdriver.Chrome(\"./chromedriver\")"
   ]
  },
  {
   "cell_type": "code",
   "execution_count": 3,
   "metadata": {},
   "outputs": [],
   "source": [
    "driver.get('https://www.vuelosbaratos.es/Buscar/MAD-BCN/2021-5-18/2021-5-25/ES/')"
   ]
  },
  {
   "cell_type": "code",
   "execution_count": 4,
   "metadata": {
    "scrolled": true
   },
   "outputs": [
    {
     "data": {
      "text/plain": [
       "\"WebDriverWait(driver, 5)    .until(EC.element_to_be_clickable((By.CSS_SELECTOR,\\n                                      'button.Button-No-Standard-Style.close.inside.darkIcon ')))    .click()\""
      ]
     },
     "execution_count": 4,
     "metadata": {},
     "output_type": "execute_result"
    }
   ],
   "source": [
    "'''WebDriverWait(driver, 5)\\\n",
    "    .until(EC.element_to_be_clickable((By.CSS_SELECTOR,\n",
    "                                      'button.Button-No-Standard-Style.close.inside.darkIcon ')))\\\n",
    "    .click()'''"
   ]
  },
  {
   "cell_type": "markdown",
   "metadata": {},
   "source": [
    "## Precio Vuelos"
   ]
  },
  {
   "cell_type": "code",
   "execution_count": 16,
   "metadata": {},
   "outputs": [],
   "source": [
    "precioo = driver.find_elements_by_class_name(\"ResultPrice\")"
   ]
  },
  {
   "cell_type": "code",
   "execution_count": 17,
   "metadata": {},
   "outputs": [],
   "source": [
    "precios = []\n",
    "for i in precioo[::2]:\n",
    "    precios.append(i.text)"
   ]
  },
  {
   "cell_type": "code",
   "execution_count": 18,
   "metadata": {
    "scrolled": true
   },
   "outputs": [
    {
     "data": {
      "text/plain": [
       "['89 €', '89 €', '93 €']"
      ]
     },
     "execution_count": 18,
     "metadata": {},
     "output_type": "execute_result"
    }
   ],
   "source": [
    "precios[:3]"
   ]
  },
  {
   "cell_type": "markdown",
   "metadata": {},
   "source": [
    "## Salida Vuelos"
   ]
  },
  {
   "cell_type": "code",
   "execution_count": 19,
   "metadata": {},
   "outputs": [],
   "source": [
    "fecha = driver.find_elements_by_class_name(\"groupDetailsCell\")"
   ]
  },
  {
   "cell_type": "code",
   "execution_count": 20,
   "metadata": {},
   "outputs": [],
   "source": [
    "fechas = []\n",
    "for i in fecha:\n",
    "    fechas.append(i.text)"
   ]
  },
  {
   "cell_type": "code",
   "execution_count": 21,
   "metadata": {},
   "outputs": [],
   "source": [
    "salida = []\n",
    "for i in fechas[::2]:\n",
    "    salida.append(i)   "
   ]
  },
  {
   "cell_type": "code",
   "execution_count": 22,
   "metadata": {},
   "outputs": [],
   "source": [
    "salida_ida = []\n",
    "for i in salida[::2]:\n",
    "    salida_ida.append(i)"
   ]
  },
  {
   "cell_type": "code",
   "execution_count": 23,
   "metadata": {},
   "outputs": [],
   "source": [
    "salida_vuelta = []\n",
    "for i in salida[1::2]:\n",
    "    salida_vuelta.append(i)"
   ]
  },
  {
   "cell_type": "code",
   "execution_count": 24,
   "metadata": {},
   "outputs": [],
   "source": [
    "llegada = []\n",
    "for i in fechas[1::2]:\n",
    "    llegada.append(i)"
   ]
  },
  {
   "cell_type": "code",
   "execution_count": 25,
   "metadata": {},
   "outputs": [],
   "source": [
    "llegada_ida = []\n",
    "for i in llegada[::2]:\n",
    "    llegada_ida.append(i)"
   ]
  },
  {
   "cell_type": "code",
   "execution_count": 26,
   "metadata": {},
   "outputs": [],
   "source": [
    "llegada_vuelta = []\n",
    "for i in llegada[1::2]:\n",
    "    llegada_vuelta.append(i)"
   ]
  },
  {
   "cell_type": "code",
   "execution_count": 27,
   "metadata": {},
   "outputs": [],
   "source": [
    "llegada_vueltaa = []\n",
    "for i in llegada_vuelta:\n",
    "    llegada_vueltaa.append(i.replace(\"\\n\",\" \"))"
   ]
  },
  {
   "cell_type": "code",
   "execution_count": 28,
   "metadata": {},
   "outputs": [
    {
     "data": {
      "text/plain": [
       "['Madrid\\n25 may. 2021, 22:05',\n",
       " 'Madrid\\n25 may. 2021, 22:05',\n",
       " 'Madrid\\n25 may. 2021, 12:00',\n",
       " 'Madrid\\n25 may. 2021, 20:05',\n",
       " 'Madrid\\n25 may. 2021, 12:00',\n",
       " 'Madrid\\n25 may. 2021, 22:05',\n",
       " 'Madrid\\n25 may. 2021, 13:25',\n",
       " 'Madrid\\n25 may. 2021, 22:05',\n",
       " 'Madrid\\n25 may. 2021, 18:10',\n",
       " 'Madrid\\n25 may. 2021, 18:10',\n",
       " 'Madrid\\n25 may. 2021, 22:05',\n",
       " 'Madrid\\n25 may. 2021, 20:05',\n",
       " 'Madrid\\n25 may. 2021, 20:05',\n",
       " 'Madrid\\n26 may. 2021, 13:45',\n",
       " 'Madrid\\n25 may. 2021, 13:25',\n",
       " 'Madrid\\n25 may. 2021, 13:25',\n",
       " 'Madrid\\n25 may. 2021, 12:00',\n",
       " 'Madrid\\n25 may. 2021, 22:05',\n",
       " 'Madrid\\n25 may. 2021, 13:25',\n",
       " 'Madrid\\n25 may. 2021, 10:30',\n",
       " 'Madrid\\n25 may. 2021, 18:20',\n",
       " 'Madrid\\n25 may. 2021, 14:55',\n",
       " 'Madrid\\n25 may. 2021, 08:40',\n",
       " 'Madrid\\n25 may. 2021, 11:00',\n",
       " 'Madrid\\n25 may. 2021, 20:00']"
      ]
     },
     "execution_count": 28,
     "metadata": {},
     "output_type": "execute_result"
    }
   ],
   "source": [
    "llegada_vuelta"
   ]
  },
  {
   "cell_type": "code",
   "execution_count": null,
   "metadata": {},
   "outputs": [],
   "source": []
  }
 ],
 "metadata": {
  "kernelspec": {
   "display_name": "Python 3",
   "language": "python",
   "name": "python3"
  },
  "language_info": {
   "codemirror_mode": {
    "name": "ipython",
    "version": 3
   },
   "file_extension": ".py",
   "mimetype": "text/x-python",
   "name": "python",
   "nbconvert_exporter": "python",
   "pygments_lexer": "ipython3",
   "version": "3.8.5"
  }
 },
 "nbformat": 4,
 "nbformat_minor": 4
}
