{
 "cells": [
  {
   "cell_type": "code",
   "execution_count": 1,
   "metadata": {},
   "outputs": [],
   "source": [
    "from selenium import webdriver\n",
    "from selenium.webdriver.support.ui import WebDriverWait \n",
    "from selenium.webdriver.support import expected_conditions as EC\n",
    "from selenium.webdriver.common.by import By\n",
    "from selenium.webdriver.chrome.options import Options\n",
    "from geopy.geocoders import Nominatim\n",
    "import pandas as pd\n",
    "import time"
   ]
  },
  {
   "cell_type": "code",
   "execution_count": 2,
   "metadata": {},
   "outputs": [],
   "source": [
    "opciones=Options()\n",
    "\n",
    "opciones.add_experimental_option('excludeSwitches', ['enable-automation'])\n",
    "opciones.add_experimental_option('useAutomationExtension', False)\n",
    "\n",
    "opciones.headless=False    # si True, no aperece la ventana (headless=no visible)\n",
    "\n",
    "opciones.add_argument('--start-maximized')         # comienza maximizado\n",
    "\n",
    "opciones.add_argument('user-data-dir=selenium')    # mantiene las cookies\n",
    "\n",
    "opciones.add_argument('--incognito')              # incognito\n",
    "\n",
    "\n",
    "PATH='./chromedriver'\n",
    "driver=webdriver.Chrome(PATH, options=opciones)\n",
    "driver.get('https://www.spain.info/es/resultados-busqueda/index.html?q=sevilla&reloaded&page=1&rpp=36&subTypeFilter=Museo,Monumento,Jard%C3%ADn%20hist%C3%B3rico')"
   ]
  },
  {
   "cell_type": "code",
   "execution_count": 3,
   "metadata": {},
   "outputs": [],
   "source": [
    "texto_columnas = driver.find_elements_by_class_name('title')"
   ]
  },
  {
   "cell_type": "code",
   "execution_count": 6,
   "metadata": {},
   "outputs": [
    {
     "data": {
      "text/plain": [
       "['Setas de Sevilla',\n",
       " 'Puerta de Sevilla',\n",
       " 'Ayuntamiento de Sevilla',\n",
       " 'Catedral de Sevilla',\n",
       " 'Real Alcázar de Sevilla',\n",
       " 'Museo Arqueológico de Sevilla']"
      ]
     },
     "execution_count": 6,
     "metadata": {},
     "output_type": "execute_result"
    }
   ],
   "source": [
    "frase = []\n",
    "for i in texto_columnas:\n",
    "    frase.append(i.text)\n",
    "\n",
    "frase = frase[11:17]\n",
    "frase"
   ]
  },
  {
   "cell_type": "code",
   "execution_count": 7,
   "metadata": {},
   "outputs": [],
   "source": [
    "direccion = []\n",
    "for i in range(0,len(frase)):\n",
    "    geolocator = Nominatim(user_agent=\"edu\")\n",
    "    location = geolocator.geocode(frase[i])\n",
    "    direccion.append(location.address)\n",
    "    time.sleep(3)"
   ]
  },
  {
   "cell_type": "code",
   "execution_count": 8,
   "metadata": {
    "scrolled": true
   },
   "outputs": [
    {
     "data": {
      "text/plain": [
       "['Setas de Sevilla, Plaza de la Encarnación, Encarnación-Regina, Casco Antiguo, Sevilla, Andalucía, 41003, España',\n",
       " 'Puerta de Sevilla, Calle Puerta Sevilla, San Basilio, Santiago, Distrito Centro, Córdoba, Andalucía, España',\n",
       " 'Ayuntamiento de Sevilla, 1, Plaza Nueva, El Arenal, Casco Antiguo, Sevilla, Andalucía, 41001, España',\n",
       " 'Catedral de Sevilla, Plaza del Triunfo, Santa Cruz, Casco Antiguo, Sevilla, Andalucía, España',\n",
       " 'Real Alcázar de Sevilla, Patio de Banderas, Santa Cruz, Casco Antiguo, Sevilla, Andalucía, 41004, España',\n",
       " 'Museo Arqueológico, Plaza de América, El Prado-Parque de María Luisa, Distrito Sur, Sevilla, Andalucía, 41005, España']"
      ]
     },
     "execution_count": 8,
     "metadata": {},
     "output_type": "execute_result"
    }
   ],
   "source": [
    "direccion"
   ]
  },
  {
   "cell_type": "code",
   "execution_count": 18,
   "metadata": {},
   "outputs": [
    {
     "data": {
      "text/plain": [
       "[[' Plaza de la Encarnación',\n",
       "  ' Encarnación-Regina',\n",
       "  ' Casco Antiguo',\n",
       "  ' Sevilla',\n",
       "  ' Andalucía',\n",
       "  ' 41003',\n",
       "  ' España'],\n",
       " [' Calle Puerta Sevilla',\n",
       "  ' San Basilio',\n",
       "  ' Santiago',\n",
       "  ' Distrito Centro',\n",
       "  ' Córdoba',\n",
       "  ' Andalucía',\n",
       "  ' España'],\n",
       " [' 1',\n",
       "  ' Plaza Nueva',\n",
       "  ' El Arenal',\n",
       "  ' Casco Antiguo',\n",
       "  ' Sevilla',\n",
       "  ' Andalucía',\n",
       "  ' 41001',\n",
       "  ' España'],\n",
       " [' Plaza del Triunfo',\n",
       "  ' Santa Cruz',\n",
       "  ' Casco Antiguo',\n",
       "  ' Sevilla',\n",
       "  ' Andalucía',\n",
       "  ' España'],\n",
       " [' Patio de Banderas',\n",
       "  ' Santa Cruz',\n",
       "  ' Casco Antiguo',\n",
       "  ' Sevilla',\n",
       "  ' Andalucía',\n",
       "  ' 41004',\n",
       "  ' España'],\n",
       " [' Plaza de América',\n",
       "  ' El Prado-Parque de María Luisa',\n",
       "  ' Distrito Sur',\n",
       "  ' Sevilla',\n",
       "  ' Andalucía',\n",
       "  ' 41005',\n",
       "  ' España']]"
      ]
     },
     "execution_count": 18,
     "metadata": {},
     "output_type": "execute_result"
    }
   ],
   "source": [
    "direccione = []\n",
    "for i in direccion:\n",
    "    corte = i.split(\",\")[1:]\n",
    "    direccione.append(corte)\n",
    "\n",
    "direccione"
   ]
  },
  {
   "cell_type": "code",
   "execution_count": 19,
   "metadata": {},
   "outputs": [
    {
     "data": {
      "text/html": [
       "<div>\n",
       "<style scoped>\n",
       "    .dataframe tbody tr th:only-of-type {\n",
       "        vertical-align: middle;\n",
       "    }\n",
       "\n",
       "    .dataframe tbody tr th {\n",
       "        vertical-align: top;\n",
       "    }\n",
       "\n",
       "    .dataframe thead th {\n",
       "        text-align: right;\n",
       "    }\n",
       "</style>\n",
       "<table border=\"1\" class=\"dataframe\">\n",
       "  <thead>\n",
       "    <tr style=\"text-align: right;\">\n",
       "      <th></th>\n",
       "      <th>Visitar</th>\n",
       "      <th>Direccion</th>\n",
       "    </tr>\n",
       "  </thead>\n",
       "  <tbody>\n",
       "    <tr>\n",
       "      <th>0</th>\n",
       "      <td>Setas de Sevilla</td>\n",
       "      <td>[ Plaza de la Encarnación,  Encarnación-Regina...</td>\n",
       "    </tr>\n",
       "    <tr>\n",
       "      <th>1</th>\n",
       "      <td>Puerta de Sevilla</td>\n",
       "      <td>[ Calle Puerta Sevilla,  San Basilio,  Santiag...</td>\n",
       "    </tr>\n",
       "    <tr>\n",
       "      <th>2</th>\n",
       "      <td>Ayuntamiento de Sevilla</td>\n",
       "      <td>[ 1,  Plaza Nueva,  El Arenal,  Casco Antiguo,...</td>\n",
       "    </tr>\n",
       "    <tr>\n",
       "      <th>3</th>\n",
       "      <td>Catedral de Sevilla</td>\n",
       "      <td>[ Plaza del Triunfo,  Santa Cruz,  Casco Antig...</td>\n",
       "    </tr>\n",
       "    <tr>\n",
       "      <th>4</th>\n",
       "      <td>Real Alcázar de Sevilla</td>\n",
       "      <td>[ Patio de Banderas,  Santa Cruz,  Casco Antig...</td>\n",
       "    </tr>\n",
       "    <tr>\n",
       "      <th>5</th>\n",
       "      <td>Museo Arqueológico de Sevilla</td>\n",
       "      <td>[ Plaza de América,  El Prado-Parque de María ...</td>\n",
       "    </tr>\n",
       "  </tbody>\n",
       "</table>\n",
       "</div>"
      ],
      "text/plain": [
       "                         Visitar  \\\n",
       "0               Setas de Sevilla   \n",
       "1              Puerta de Sevilla   \n",
       "2        Ayuntamiento de Sevilla   \n",
       "3            Catedral de Sevilla   \n",
       "4        Real Alcázar de Sevilla   \n",
       "5  Museo Arqueológico de Sevilla   \n",
       "\n",
       "                                           Direccion  \n",
       "0  [ Plaza de la Encarnación,  Encarnación-Regina...  \n",
       "1  [ Calle Puerta Sevilla,  San Basilio,  Santiag...  \n",
       "2  [ 1,  Plaza Nueva,  El Arenal,  Casco Antiguo,...  \n",
       "3  [ Plaza del Triunfo,  Santa Cruz,  Casco Antig...  \n",
       "4  [ Patio de Banderas,  Santa Cruz,  Casco Antig...  \n",
       "5  [ Plaza de América,  El Prado-Parque de María ...  "
      ]
     },
     "execution_count": 19,
     "metadata": {},
     "output_type": "execute_result"
    }
   ],
   "source": [
    "df = pd.DataFrame(list(zip(frase,direccione)), columns = ['Visitar','Direccion'])\n",
    "df"
   ]
  },
  {
   "cell_type": "code",
   "execution_count": null,
   "metadata": {},
   "outputs": [],
   "source": []
  }
 ],
 "metadata": {
  "kernelspec": {
   "display_name": "Python 3",
   "language": "python",
   "name": "python3"
  },
  "language_info": {
   "codemirror_mode": {
    "name": "ipython",
    "version": 3
   },
   "file_extension": ".py",
   "mimetype": "text/x-python",
   "name": "python",
   "nbconvert_exporter": "python",
   "pygments_lexer": "ipython3",
   "version": "3.8.5"
  }
 },
 "nbformat": 4,
 "nbformat_minor": 4
}
